{
 "cells": [
  {
   "cell_type": "markdown",
   "metadata": {},
   "source": [
    "# 규제가 있는 선형회귀 - 릿지, 라쏘, 엘라스틱넷 회귀"
   ]
  },
  {
   "cell_type": "markdown",
   "metadata": {},
   "source": [
    "#### 규제가 있는 모델 구축 - 당뇨병 데이터세트\n",
    "#### 1. 데이터 전처리\n",
    "#### 2. Ridge, Lasso, Elasticnet regression 구축: 회귀 계수 확인, 하이퍼 파라미터 탐색\n",
    "#### 3. 교차 검증으로 최적의 하이퍼파라미터 탐색: LassoCV()"
   ]
  },
  {
   "cell_type": "code",
   "execution_count": 2,
   "metadata": {},
   "outputs": [
    {
     "name": "stdout",
     "output_type": "stream",
     "text": [
      "Nanum YaCaeJangSuBaegGeumRye\n",
      "Nanum DaeHanMinGugYeorSaCe\n",
      "Nanum SonPyeonJiCe\n",
      "NanumSquare Neo Light\n",
      "NanumSquare Neo Bold\n",
      "Nanum AJumMaJaYu\n",
      "NanumBarunGothic YetHangul\n",
      "Nanum SeHwaCe\n",
      "Nanum YeonJiCe\n",
      "Nanum SoBangGwanEuiGiDo\n",
      "Nanum DdaDdeusHanJagByeor\n",
      "Nanum BiSangCe\n",
      "Nanum JeomGgorCe\n",
      "Nanum NaMuJeongWeon\n",
      "Nanum BugGeugSeong\n",
      "Nanum AGiSaRangCe\n",
      "Nanum DongHwaDdoBag\n",
      "Nanum DaHaengCe\n",
      "Nanum SiUGwiYeoWeo\n",
      "Nanum YeorAHobEuiBanJjagIm\n",
      "Nanum OeHarMeoNiGeurSsi\n",
      "Nanum JungHagSaeng\n",
      "Nanum HeuiMangNuRi\n",
      "Nanum SoMiCe\n",
      "Nanum HaengBogHanDoBi\n",
      "Nanum BaReunJeongSin\n",
      "Nanum GoRyeoGeurGgor\n",
      "Nanum DaJinCe\n",
      "Nanum BaegEuiEuiCeonSa\n",
      "Nanum SeongSirCe\n",
      "NanumSquare Neo OTF Heavy\n",
      "Nanum JangMiCe\n",
      "Nanum MuGungHwa\n",
      "Nanum NeuRisNeuRisCe\n",
      "Nanum HaNaDoeEoSonGeurSsi\n",
      "Nanum Brush Script OTF\n",
      "Nanum GimYuICe\n",
      "Nanum DungGeunInYeon\n",
      "Nanum Brush Script\n",
      "Nanum HyeJunCe\n",
      "Nanum GarMaesGeur\n",
      "Nanum JaBuSimJiU\n",
      "NanumSquare Neo ExtraBold\n",
      "Nanum MasIssNeunCe\n",
      "Nanum GgocNaeEum\n",
      "NanumSquare Neo OTF Bold\n",
      "Nanum HaRamCe\n",
      "Nanum SinHonBuBu\n",
      "Nanum YeoReumGeurSsi\n",
      "Nanum OenSonJabIDoYeBbeo\n",
      "D2Coding ligature\n",
      "Nanum YuNiDdingDdangDdingDdang\n",
      "Nanum DdaAgDanDan\n",
      "Nanum MongDor\n",
      "Nanum MiNiSonGeurSsi\n",
      "Nanum BaReunHiPi\n",
      "Nanum GomSinCe\n",
      "Nanum DdarEGeEomMaGa\n",
      "Nanum CeorPirGeurSsi\n",
      "Nanum OgBiCe\n",
      "Nanum DaeGwangYuRi\n",
      "Nanum AReumDeuRiGgocNaMu\n",
      "Nanum BanJjagBanJjagByeor\n",
      "Nanum HaNaSonGeurSsi\n",
      "Nanum SeACe\n",
      "D2Coding ligature\n",
      "Nanum JarHaGoIssEo\n",
      "Nanum HyoNamNeurHwaITing\n",
      "Nanum NaNeunIGyeoNaenDa\n",
      "Nanum KoKoCe\n",
      "Nanum MuJinJangCe\n",
      "Nanum ABbaEuiYeonAePyeonJi\n",
      "Nanum BuJangNimNunCiCe\n",
      "Nanum GiBbeumBarkEum\n",
      "Nanum EongGeongKwiCe\n",
      "Nanum HarABeoJiEuiNaNum\n",
      "Nanum YeDangCe\n",
      "Nanum SuJubEunDaeHagSaeng\n",
      "Nanum JinJuBagGyeongACe\n",
      "Nanum HimNaeRaNeunMarBoDan\n",
      "Nanum DaSiSiJagHae\n",
      "Nanum AmSeuTeReuDam\n",
      "Nanum EuiMiIssNeunHanGeur\n",
      "D2Coding\n",
      "Nanum GeumEunBoHwa\n",
      "Nanum NaEuiANaeSonGeurSsi\n",
      "Nanum BeoDeuNaMu\n",
      "Nanum Pen Script OTF\n",
      "Nanum DarEuiGweDo\n",
      "Nanum SaRangHaeADeur\n",
      "Nanum GaRamYeonGgoc\n",
      "Nanum Pen Script\n",
      "Nanum HeuinGgoRiSuRi\n",
      "Nanum MaGoCe\n",
      "Nanum YaGeunHaNeunGimJuIm\n",
      "NanumBarunpen\n",
      "Nanum CoDingHeuiMang\n",
      "NanumSquare Neo OTF Regular\n",
      "Nanum AnSsangCe\n",
      "NanumSquare Neo OTF Light\n",
      "Nanum URiDdarSonGeurSsi\n",
      "Nanum SangHaeCanMiCe\n",
      "Nanum KarGugSu\n",
      "Nanum GyuRiEuiIrGi\n",
      "NanumBarunGothicOTF YetHangul\n",
      "Nanum WaIrDeu\n",
      "Nanum AInMamSonGeurSsi\n",
      "Nanum EomMaSaRang\n",
      "NanumBarunpenOTF\n",
      "Nanum GangInHanWiRo\n",
      "Nanum GangBuJangNimCe\n",
      "Nanum MiRaeNaMu\n",
      "Nanum SeGyeJeogInHanGeur\n",
      "Nanum ABbaGeurSsi\n",
      "NanumBarunpen\n",
      "Nanum BaeEunHyeCe\n",
      "Nanum DaCaeSaRang\n",
      "Nanum DdoBagDdoBag\n",
      "Nanum YeorIrCe\n",
      "Nanum NoRyeogHaNeunDongHeui\n",
      "NanumSquare Neo Regular\n",
      "Nanum GoDigANiGoGoDing\n",
      "NanumBarunpenOTF\n",
      "NanumSquare Neo Heavy\n",
      "Nanum HyeogICe\n",
      "D2Coding ligature\n",
      "Nanum GgeuTeuMeoRiCe\n",
      "NanumSquare Neo OTF ExtraBold\n",
      "Nanum BbangGuNiMamSonGeurSsi\n",
      "Nanum JeongEunCe\n",
      "Nanum BeomSomCe\n",
      "Nanum HanYunCe\n",
      "Nanum YeBbeunMinGyeongCe\n"
     ]
    }
   ],
   "source": [
    "# 관련 라이브러리 및 모듈 Import\n",
    "from Font_setting import get_font\n",
    "get_font()\n",
    "import numpy as np\n",
    "import matplotlib.pyplot as plt"
   ]
  },
  {
   "cell_type": "code",
   "execution_count": 7,
   "metadata": {},
   "outputs": [],
   "source": [
    "import warnings\n",
    "import pandas as pd \n",
    "warnings.filterwarnings(action='ignore')"
   ]
  },
  {
   "cell_type": "markdown",
   "metadata": {},
   "source": [
    "# 0. 데이터 수집, 탐색, 준비"
   ]
  },
  {
   "cell_type": "code",
   "execution_count": 5,
   "metadata": {},
   "outputs": [],
   "source": [
    "from sklearn.datasets import load_diabetes\n",
    "from sklearn.linear_model import LinearRegression\n",
    "from sklearn.linear_model import Ridge\n",
    "from sklearn.linear_model import Lasso\n",
    "from sklearn.linear_model import ElasticNet\n",
    "from sklearn.linear_model import RidgeCV\n",
    "from sklearn.linear_model import LassoCV\n",
    "#from sklearn.linear_model import ElasticNetCV\n",
    "\n",
    "from sklearn.model_selection import train_test_split\n",
    "from sklearn.metrics import mean_squared_error,r2_score\n",
    "from get_MSE import get_score # mse,rmse,r2구하는 함수\n",
    "diab =load_diabetes()"
   ]
  },
  {
   "cell_type": "markdown",
   "metadata": {},
   "source": [
    "####  데이터셋에 대한 설명 및 정보 확인"
   ]
  },
  {
   "cell_type": "code",
   "execution_count": null,
   "metadata": {},
   "outputs": [],
   "source": [
    "# 데이터셋 정보확인"
   ]
  },
  {
   "cell_type": "code",
   "execution_count": null,
   "metadata": {},
   "outputs": [],
   "source": []
  },
  {
   "cell_type": "code",
   "execution_count": null,
   "metadata": {},
   "outputs": [],
   "source": []
  },
  {
   "cell_type": "code",
   "execution_count": null,
   "metadata": {},
   "outputs": [],
   "source": []
  },
  {
   "cell_type": "markdown",
   "metadata": {},
   "source": [
    "#### 데이터프레임 변환"
   ]
  },
  {
   "cell_type": "code",
   "execution_count": null,
   "metadata": {},
   "outputs": [],
   "source": [
    "# 독립변수(피처)와 종속변수를 DataFrame자료형으로 변환"
   ]
  },
  {
   "cell_type": "code",
   "execution_count": 8,
   "metadata": {},
   "outputs": [
    {
     "data": {
      "text/html": [
       "<div>\n",
       "<style scoped>\n",
       "    .dataframe tbody tr th:only-of-type {\n",
       "        vertical-align: middle;\n",
       "    }\n",
       "\n",
       "    .dataframe tbody tr th {\n",
       "        vertical-align: top;\n",
       "    }\n",
       "\n",
       "    .dataframe thead th {\n",
       "        text-align: right;\n",
       "    }\n",
       "</style>\n",
       "<table border=\"1\" class=\"dataframe\">\n",
       "  <thead>\n",
       "    <tr style=\"text-align: right;\">\n",
       "      <th></th>\n",
       "      <th>age</th>\n",
       "      <th>sex</th>\n",
       "      <th>bmi</th>\n",
       "      <th>bp</th>\n",
       "      <th>s1</th>\n",
       "      <th>s2</th>\n",
       "      <th>s3</th>\n",
       "      <th>s4</th>\n",
       "      <th>s5</th>\n",
       "      <th>s6</th>\n",
       "    </tr>\n",
       "  </thead>\n",
       "  <tbody>\n",
       "    <tr>\n",
       "      <th>0</th>\n",
       "      <td>0.038076</td>\n",
       "      <td>0.050680</td>\n",
       "      <td>0.061696</td>\n",
       "      <td>0.021872</td>\n",
       "      <td>-0.044223</td>\n",
       "      <td>-0.034821</td>\n",
       "      <td>-0.043401</td>\n",
       "      <td>-0.002592</td>\n",
       "      <td>0.019907</td>\n",
       "      <td>-0.017646</td>\n",
       "    </tr>\n",
       "    <tr>\n",
       "      <th>1</th>\n",
       "      <td>-0.001882</td>\n",
       "      <td>-0.044642</td>\n",
       "      <td>-0.051474</td>\n",
       "      <td>-0.026328</td>\n",
       "      <td>-0.008449</td>\n",
       "      <td>-0.019163</td>\n",
       "      <td>0.074412</td>\n",
       "      <td>-0.039493</td>\n",
       "      <td>-0.068332</td>\n",
       "      <td>-0.092204</td>\n",
       "    </tr>\n",
       "    <tr>\n",
       "      <th>2</th>\n",
       "      <td>0.085299</td>\n",
       "      <td>0.050680</td>\n",
       "      <td>0.044451</td>\n",
       "      <td>-0.005670</td>\n",
       "      <td>-0.045599</td>\n",
       "      <td>-0.034194</td>\n",
       "      <td>-0.032356</td>\n",
       "      <td>-0.002592</td>\n",
       "      <td>0.002861</td>\n",
       "      <td>-0.025930</td>\n",
       "    </tr>\n",
       "    <tr>\n",
       "      <th>3</th>\n",
       "      <td>-0.089063</td>\n",
       "      <td>-0.044642</td>\n",
       "      <td>-0.011595</td>\n",
       "      <td>-0.036656</td>\n",
       "      <td>0.012191</td>\n",
       "      <td>0.024991</td>\n",
       "      <td>-0.036038</td>\n",
       "      <td>0.034309</td>\n",
       "      <td>0.022688</td>\n",
       "      <td>-0.009362</td>\n",
       "    </tr>\n",
       "    <tr>\n",
       "      <th>4</th>\n",
       "      <td>0.005383</td>\n",
       "      <td>-0.044642</td>\n",
       "      <td>-0.036385</td>\n",
       "      <td>0.021872</td>\n",
       "      <td>0.003935</td>\n",
       "      <td>0.015596</td>\n",
       "      <td>0.008142</td>\n",
       "      <td>-0.002592</td>\n",
       "      <td>-0.031988</td>\n",
       "      <td>-0.046641</td>\n",
       "    </tr>\n",
       "    <tr>\n",
       "      <th>...</th>\n",
       "      <td>...</td>\n",
       "      <td>...</td>\n",
       "      <td>...</td>\n",
       "      <td>...</td>\n",
       "      <td>...</td>\n",
       "      <td>...</td>\n",
       "      <td>...</td>\n",
       "      <td>...</td>\n",
       "      <td>...</td>\n",
       "      <td>...</td>\n",
       "    </tr>\n",
       "    <tr>\n",
       "      <th>437</th>\n",
       "      <td>0.041708</td>\n",
       "      <td>0.050680</td>\n",
       "      <td>0.019662</td>\n",
       "      <td>0.059744</td>\n",
       "      <td>-0.005697</td>\n",
       "      <td>-0.002566</td>\n",
       "      <td>-0.028674</td>\n",
       "      <td>-0.002592</td>\n",
       "      <td>0.031193</td>\n",
       "      <td>0.007207</td>\n",
       "    </tr>\n",
       "    <tr>\n",
       "      <th>438</th>\n",
       "      <td>-0.005515</td>\n",
       "      <td>0.050680</td>\n",
       "      <td>-0.015906</td>\n",
       "      <td>-0.067642</td>\n",
       "      <td>0.049341</td>\n",
       "      <td>0.079165</td>\n",
       "      <td>-0.028674</td>\n",
       "      <td>0.034309</td>\n",
       "      <td>-0.018114</td>\n",
       "      <td>0.044485</td>\n",
       "    </tr>\n",
       "    <tr>\n",
       "      <th>439</th>\n",
       "      <td>0.041708</td>\n",
       "      <td>0.050680</td>\n",
       "      <td>-0.015906</td>\n",
       "      <td>0.017293</td>\n",
       "      <td>-0.037344</td>\n",
       "      <td>-0.013840</td>\n",
       "      <td>-0.024993</td>\n",
       "      <td>-0.011080</td>\n",
       "      <td>-0.046883</td>\n",
       "      <td>0.015491</td>\n",
       "    </tr>\n",
       "    <tr>\n",
       "      <th>440</th>\n",
       "      <td>-0.045472</td>\n",
       "      <td>-0.044642</td>\n",
       "      <td>0.039062</td>\n",
       "      <td>0.001215</td>\n",
       "      <td>0.016318</td>\n",
       "      <td>0.015283</td>\n",
       "      <td>-0.028674</td>\n",
       "      <td>0.026560</td>\n",
       "      <td>0.044529</td>\n",
       "      <td>-0.025930</td>\n",
       "    </tr>\n",
       "    <tr>\n",
       "      <th>441</th>\n",
       "      <td>-0.045472</td>\n",
       "      <td>-0.044642</td>\n",
       "      <td>-0.073030</td>\n",
       "      <td>-0.081413</td>\n",
       "      <td>0.083740</td>\n",
       "      <td>0.027809</td>\n",
       "      <td>0.173816</td>\n",
       "      <td>-0.039493</td>\n",
       "      <td>-0.004222</td>\n",
       "      <td>0.003064</td>\n",
       "    </tr>\n",
       "  </tbody>\n",
       "</table>\n",
       "<p>442 rows × 10 columns</p>\n",
       "</div>"
      ],
      "text/plain": [
       "          age       sex       bmi        bp        s1        s2        s3  \\\n",
       "0    0.038076  0.050680  0.061696  0.021872 -0.044223 -0.034821 -0.043401   \n",
       "1   -0.001882 -0.044642 -0.051474 -0.026328 -0.008449 -0.019163  0.074412   \n",
       "2    0.085299  0.050680  0.044451 -0.005670 -0.045599 -0.034194 -0.032356   \n",
       "3   -0.089063 -0.044642 -0.011595 -0.036656  0.012191  0.024991 -0.036038   \n",
       "4    0.005383 -0.044642 -0.036385  0.021872  0.003935  0.015596  0.008142   \n",
       "..        ...       ...       ...       ...       ...       ...       ...   \n",
       "437  0.041708  0.050680  0.019662  0.059744 -0.005697 -0.002566 -0.028674   \n",
       "438 -0.005515  0.050680 -0.015906 -0.067642  0.049341  0.079165 -0.028674   \n",
       "439  0.041708  0.050680 -0.015906  0.017293 -0.037344 -0.013840 -0.024993   \n",
       "440 -0.045472 -0.044642  0.039062  0.001215  0.016318  0.015283 -0.028674   \n",
       "441 -0.045472 -0.044642 -0.073030 -0.081413  0.083740  0.027809  0.173816   \n",
       "\n",
       "           s4        s5        s6  \n",
       "0   -0.002592  0.019907 -0.017646  \n",
       "1   -0.039493 -0.068332 -0.092204  \n",
       "2   -0.002592  0.002861 -0.025930  \n",
       "3    0.034309  0.022688 -0.009362  \n",
       "4   -0.002592 -0.031988 -0.046641  \n",
       "..        ...       ...       ...  \n",
       "437 -0.002592  0.031193  0.007207  \n",
       "438  0.034309 -0.018114  0.044485  \n",
       "439 -0.011080 -0.046883  0.015491  \n",
       "440  0.026560  0.044529 -0.025930  \n",
       "441 -0.039493 -0.004222  0.003064  \n",
       "\n",
       "[442 rows x 10 columns]"
      ]
     },
     "execution_count": 8,
     "metadata": {},
     "output_type": "execute_result"
    }
   ],
   "source": [
    "# 데이터셋 객체의 data 배열, 즉, 독립변수 X가되는 피처(특성)들을 DataFrame자료형으로 변환하여\n",
    "# diab_df생성\n",
    "# diab_df.head() 데이터 5개 확인\n",
    "diab_df = pd.DataFrame(data=diab.data, columns = diab.feature_names)\n",
    "diab_df"
   ]
  },
  {
   "cell_type": "code",
   "execution_count": null,
   "metadata": {},
   "outputs": [],
   "source": []
  },
  {
   "cell_type": "code",
   "execution_count": 11,
   "metadata": {},
   "outputs": [
    {
     "data": {
      "text/plain": [
       "age    0.0\n",
       "sex    0.0\n",
       "bmi    0.0\n",
       "bp     0.0\n",
       "s1     0.0\n",
       "s2     0.0\n",
       "s3     0.0\n",
       "s4     0.0\n",
       "s5     0.0\n",
       "s6     0.0\n",
       "dtype: float64"
      ]
     },
     "execution_count": 11,
     "metadata": {},
     "output_type": "execute_result"
    }
   ],
   "source": [
    "# 누락치 확인,  data type 확인 ->  isnull().sum(), target에 결측값이 있으면 해당 관측치 제거\n",
    "diab_df[diab_df.isna()].sum()"
   ]
  },
  {
   "cell_type": "code",
   "execution_count": 12,
   "metadata": {},
   "outputs": [
    {
     "name": "stdout",
     "output_type": "stream",
     "text": [
      "<class 'pandas.core.frame.DataFrame'>\n",
      "RangeIndex: 442 entries, 0 to 441\n",
      "Data columns (total 10 columns):\n",
      " #   Column  Non-Null Count  Dtype  \n",
      "---  ------  --------------  -----  \n",
      " 0   age     442 non-null    float64\n",
      " 1   sex     442 non-null    float64\n",
      " 2   bmi     442 non-null    float64\n",
      " 3   bp      442 non-null    float64\n",
      " 4   s1      442 non-null    float64\n",
      " 5   s2      442 non-null    float64\n",
      " 6   s3      442 non-null    float64\n",
      " 7   s4      442 non-null    float64\n",
      " 8   s5      442 non-null    float64\n",
      " 9   s6      442 non-null    float64\n",
      "dtypes: float64(10)\n",
      "memory usage: 34.7 KB\n"
     ]
    }
   ],
   "source": [
    "diab_df.info()"
   ]
  },
  {
   "cell_type": "code",
   "execution_count": 14,
   "metadata": {},
   "outputs": [],
   "source": [
    "# X(독립변수), Y(종속변수) 분할\n",
    "X = diab.data\n",
    "y = diab.target"
   ]
  },
  {
   "cell_type": "code",
   "execution_count": 16,
   "metadata": {},
   "outputs": [
    {
     "data": {
      "text/plain": [
       "((309, 10), (133, 10))"
      ]
     },
     "execution_count": 16,
     "metadata": {},
     "output_type": "execute_result"
    }
   ],
   "source": [
    "# 학습용, 평가용 데이터 분리\n",
    "X_train, X_test, y_train, y_test = train_test_split(X,y,test_size=0.3, random_state=42)\n",
    "X_train.shape, X_test.shape"
   ]
  },
  {
   "cell_type": "markdown",
   "metadata": {},
   "source": [
    "# 모델별 계수변화, 알파별 계수 비교 데이터프레임(comp_df)"
   ]
  },
  {
   "cell_type": "code",
   "execution_count": 18,
   "metadata": {},
   "outputs": [
    {
     "data": {
      "text/html": [
       "<div>\n",
       "<style scoped>\n",
       "    .dataframe tbody tr th:only-of-type {\n",
       "        vertical-align: middle;\n",
       "    }\n",
       "\n",
       "    .dataframe tbody tr th {\n",
       "        vertical-align: top;\n",
       "    }\n",
       "\n",
       "    .dataframe thead th {\n",
       "        text-align: right;\n",
       "    }\n",
       "</style>\n",
       "<table border=\"1\" class=\"dataframe\">\n",
       "  <thead>\n",
       "    <tr style=\"text-align: right;\">\n",
       "      <th></th>\n",
       "    </tr>\n",
       "  </thead>\n",
       "  <tbody>\n",
       "    <tr>\n",
       "      <th>age</th>\n",
       "    </tr>\n",
       "    <tr>\n",
       "      <th>sex</th>\n",
       "    </tr>\n",
       "    <tr>\n",
       "      <th>bmi</th>\n",
       "    </tr>\n",
       "    <tr>\n",
       "      <th>bp</th>\n",
       "    </tr>\n",
       "    <tr>\n",
       "      <th>s1</th>\n",
       "    </tr>\n",
       "    <tr>\n",
       "      <th>s2</th>\n",
       "    </tr>\n",
       "    <tr>\n",
       "      <th>s3</th>\n",
       "    </tr>\n",
       "    <tr>\n",
       "      <th>s4</th>\n",
       "    </tr>\n",
       "    <tr>\n",
       "      <th>s5</th>\n",
       "    </tr>\n",
       "    <tr>\n",
       "      <th>s6</th>\n",
       "    </tr>\n",
       "    <tr>\n",
       "      <th>R2 scores</th>\n",
       "    </tr>\n",
       "  </tbody>\n",
       "</table>\n",
       "</div>"
      ],
      "text/plain": [
       "Empty DataFrame\n",
       "Columns: []\n",
       "Index: [age, sex, bmi, bp, s1, s2, s3, s4, s5, s6, R2 scores]"
      ]
     },
     "execution_count": 18,
     "metadata": {},
     "output_type": "execute_result"
    }
   ],
   "source": [
    "#각 모델별 계수로 이루어진 데이터프레임 준비\n",
    "comp_df = pd.DataFrame(index=diab.feature_names + ['R2 scores'])\n",
    "comp_df"
   ]
  },
  {
   "cell_type": "code",
   "execution_count": null,
   "metadata": {},
   "outputs": [],
   "source": []
  },
  {
   "cell_type": "code",
   "execution_count": null,
   "metadata": {},
   "outputs": [],
   "source": [
    "#각 모델별, 규제강도별 평가지표 저장"
   ]
  },
  {
   "cell_type": "code",
   "execution_count": null,
   "metadata": {},
   "outputs": [],
   "source": []
  },
  {
   "cell_type": "markdown",
   "metadata": {},
   "source": [
    "# 1. 규제가 없는 선형모델"
   ]
  },
  {
   "cell_type": "code",
   "execution_count": 23,
   "metadata": {},
   "outputs": [
    {
     "name": "stdout",
     "output_type": "stream",
     "text": [
      "mse is 2821.75\n",
      "rmse is 53.12\n",
      "r2 is 0.48\n"
     ]
    },
    {
     "data": {
      "text/plain": [
       "age     29.254013\n",
       "sex   -261.706469\n",
       "bmi    546.299723\n",
       "bp     388.398341\n",
       "s1    -901.959668\n",
       "s2     506.763241\n",
       "s3     121.154351\n",
       "s4     288.035267\n",
       "s5     659.268951\n",
       "s6      41.376701\n",
       "dtype: float64"
      ]
     },
     "execution_count": 23,
     "metadata": {},
     "output_type": "execute_result"
    }
   ],
   "source": [
    "#모델 구축 및 학습\n",
    "model_Lr = LinearRegression()\n",
    "model_Lr.fit(X_train,y_train)\n",
    "#모델 평가\n",
    "y_pred = model_Lr.predict(X_test)\n",
    "\n",
    "# 회귀 계수 확인\n",
    "get_score(y_test, y_pred)\n",
    "Lr_coef = pd.Series(model_Lr.coef_ , index= diab.feature_names)\n",
    "Lr_coef"
   ]
  },
  {
   "cell_type": "markdown",
   "metadata": {},
   "source": [
    "- 계수값 시각화"
   ]
  },
  {
   "cell_type": "code",
   "execution_count": 37,
   "metadata": {},
   "outputs": [
    {
     "data": {
      "image/png": "[encoded data removed]",
      "text/plain": [
       "<Figure size 1000x800 with 1 Axes>"
      ]
     },
     "metadata": {},
     "output_type": "display_data"
    }
   ],
   "source": [
    "Lr_coef = Lr_coef.sort_values(ascending=False)\n",
    "import seaborn as sns\n",
    "coef = np.abs(Lr_coef)\n",
    "# 시각화\n",
    "plt.figure(figsize=(10,8))\n",
    "plt.bar(Lr_coef.index, coef.values)\n",
    "plt.title('<Feature importance of coefficents without Regulization>', fontsize=15)\n",
    "plt.xticks(coef.index, rotation=45, fontsize=20)\n",
    "plt.show()"
   ]
  },
  {
   "cell_type": "code",
   "execution_count": 40,
   "metadata": {},
   "outputs": [
    {
     "data": {
      "text/html": [
       "<div>\n",
       "<style scoped>\n",
       "    .dataframe tbody tr th:only-of-type {\n",
       "        vertical-align: middle;\n",
       "    }\n",
       "\n",
       "    .dataframe tbody tr th {\n",
       "        vertical-align: top;\n",
       "    }\n",
       "\n",
       "    .dataframe thead th {\n",
       "        text-align: right;\n",
       "    }\n",
       "</style>\n",
       "<table border=\"1\" class=\"dataframe\">\n",
       "  <thead>\n",
       "    <tr style=\"text-align: right;\">\n",
       "      <th></th>\n",
       "      <th>LR</th>\n",
       "    </tr>\n",
       "  </thead>\n",
       "  <tbody>\n",
       "    <tr>\n",
       "      <th>age</th>\n",
       "      <td>29.254013</td>\n",
       "    </tr>\n",
       "    <tr>\n",
       "      <th>sex</th>\n",
       "      <td>-261.706469</td>\n",
       "    </tr>\n",
       "    <tr>\n",
       "      <th>bmi</th>\n",
       "      <td>546.299723</td>\n",
       "    </tr>\n",
       "    <tr>\n",
       "      <th>bp</th>\n",
       "      <td>388.398341</td>\n",
       "    </tr>\n",
       "    <tr>\n",
       "      <th>s1</th>\n",
       "      <td>-901.959668</td>\n",
       "    </tr>\n",
       "    <tr>\n",
       "      <th>s2</th>\n",
       "      <td>506.763241</td>\n",
       "    </tr>\n",
       "    <tr>\n",
       "      <th>s3</th>\n",
       "      <td>121.154351</td>\n",
       "    </tr>\n",
       "    <tr>\n",
       "      <th>s4</th>\n",
       "      <td>288.035267</td>\n",
       "    </tr>\n",
       "    <tr>\n",
       "      <th>s5</th>\n",
       "      <td>659.268951</td>\n",
       "    </tr>\n",
       "    <tr>\n",
       "      <th>s6</th>\n",
       "      <td>41.376701</td>\n",
       "    </tr>\n",
       "    <tr>\n",
       "      <th>R2 scores</th>\n",
       "      <td>0.477290</td>\n",
       "    </tr>\n",
       "  </tbody>\n",
       "</table>\n",
       "</div>"
      ],
      "text/plain": [
       "                   LR\n",
       "age         29.254013\n",
       "sex       -261.706469\n",
       "bmi        546.299723\n",
       "bp         388.398341\n",
       "s1        -901.959668\n",
       "s2         506.763241\n",
       "s3         121.154351\n",
       "s4         288.035267\n",
       "s5         659.268951\n",
       "s6          41.376701\n",
       "R2 scores    0.477290"
      ]
     },
     "execution_count": 40,
     "metadata": {},
     "output_type": "execute_result"
    }
   ],
   "source": [
    "# 모델별 비교 데이터프레임 열 추가\n",
    "comp_df['LR'] = np.append(model_Lr.coef_, r2_score(y_test,y_pred))\n",
    "comp_df"
   ]
  },
  {
   "cell_type": "code",
   "execution_count": null,
   "metadata": {},
   "outputs": [],
   "source": []
  },
  {
   "cell_type": "markdown",
   "metadata": {},
   "source": [
    "# 1. 릿지 모델"
   ]
  },
  {
   "cell_type": "code",
   "execution_count": 42,
   "metadata": {},
   "outputs": [
    {
     "data": {
      "text/html": [
       "<style>#sk-container-id-2 {color: black;background-color: white;}#sk-container-id-2 pre{padding: 0;}#sk-container-id-2 div.sk-toggleable {background-color: white;}#sk-container-id-2 label.sk-toggleable__label {cursor: pointer;display: block;width: 100%;margin-bottom: 0;padding: 0.3em;box-sizing: border-box;text-align: center;}#sk-container-id-2 label.sk-toggleable__label-arrow:before {content: \"▸\";float: left;margin-right: 0.25em;color: #696969;}#sk-container-id-2 label.sk-toggleable__label-arrow:hover:before {color: black;}#sk-container-id-2 div.sk-estimator:hover label.sk-toggleable__label-arrow:before {color: black;}#sk-container-id-2 div.sk-toggleable__content {max-height: 0;max-width: 0;overflow: hidden;text-align: left;background-color: #f0f8ff;}#sk-container-id-2 div.sk-toggleable__content pre {margin: 0.2em;color: black;border-radius: 0.25em;background-color: #f0f8ff;}#sk-container-id-2 input.sk-toggleable__control:checked~div.sk-toggleable__content {max-height: 200px;max-width: 100%;overflow: auto;}#sk-container-id-2 input.sk-toggleable__control:checked~label.sk-toggleable__label-arrow:before {content: \"▾\";}#sk-container-id-2 div.sk-estimator input.sk-toggleable__control:checked~label.sk-toggleable__label {background-color: #d4ebff;}#sk-container-id-2 div.sk-label input.sk-toggleable__control:checked~label.sk-toggleable__label {background-color: #d4ebff;}#sk-container-id-2 input.sk-hidden--visually {border: 0;clip: rect(1px 1px 1px 1px);clip: rect(1px, 1px, 1px, 1px);height: 1px;margin: -1px;overflow: hidden;padding: 0;position: absolute;width: 1px;}#sk-container-id-2 div.sk-estimator {font-family: monospace;background-color: #f0f8ff;border: 1px dotted black;border-radius: 0.25em;box-sizing: border-box;margin-bottom: 0.5em;}#sk-container-id-2 div.sk-estimator:hover {background-color: #d4ebff;}#sk-container-id-2 div.sk-parallel-item::after {content: \"\";width: 100%;border-bottom: 1px solid gray;flex-grow: 1;}#sk-container-id-2 div.sk-label:hover label.sk-toggleable__label {background-color: #d4ebff;}#sk-container-id-2 div.sk-serial::before {content: \"\";position: absolute;border-left: 1px solid gray;box-sizing: border-box;top: 0;bottom: 0;left: 50%;z-index: 0;}#sk-container-id-2 div.sk-serial {display: flex;flex-direction: column;align-items: center;background-color: white;padding-right: 0.2em;padding-left: 0.2em;position: relative;}#sk-container-id-2 div.sk-item {position: relative;z-index: 1;}#sk-container-id-2 div.sk-parallel {display: flex;align-items: stretch;justify-content: center;background-color: white;position: relative;}#sk-container-id-2 div.sk-item::before, #sk-container-id-2 div.sk-parallel-item::before {content: \"\";position: absolute;border-left: 1px solid gray;box-sizing: border-box;top: 0;bottom: 0;left: 50%;z-index: -1;}#sk-container-id-2 div.sk-parallel-item {display: flex;flex-direction: column;z-index: 1;position: relative;background-color: white;}#sk-container-id-2 div.sk-parallel-item:first-child::after {align-self: flex-end;width: 50%;}#sk-container-id-2 div.sk-parallel-item:last-child::after {align-self: flex-start;width: 50%;}#sk-container-id-2 div.sk-parallel-item:only-child::after {width: 0;}#sk-container-id-2 div.sk-dashed-wrapped {border: 1px dashed gray;margin: 0 0.4em 0.5em 0.4em;box-sizing: border-box;padding-bottom: 0.4em;background-color: white;}#sk-container-id-2 div.sk-label label {font-family: monospace;font-weight: bold;display: inline-block;line-height: 1.2em;}#sk-container-id-2 div.sk-label-container {text-align: center;}#sk-container-id-2 div.sk-container {/* jupyter's `normalize.less` sets `[hidden] { display: none; }` but bootstrap.min.css set `[hidden] { display: none !important; }` so we also need the `!important` here to be able to override the default hidden behavior on the sphinx rendered scikit-learn.org. See: https://github.com/scikit-learn/scikit-learn/issues/21755 */display: inline-block !important;position: relative;}#sk-container-id-2 div.sk-text-repr-fallback {display: none;}</style><div id=\"sk-container-id-2\" class=\"sk-top-container\"><div class=\"sk-text-repr-fallback\"><pre>Ridge(alpha=1)</pre><b>In a Jupyter environment, please rerun this cell to show the HTML representation or trust the notebook. <br />On GitHub, the HTML representation is unable to render, please try loading this page with nbviewer.org.</b></div><div class=\"sk-container\" hidden><div class=\"sk-item\"><div class=\"sk-estimator sk-toggleable\"><input class=\"sk-toggleable__control sk-hidden--visually\" id=\"sk-estimator-id-2\" type=\"checkbox\" checked><label for=\"sk-estimator-id-2\" class=\"sk-toggleable__label sk-toggleable__label-arrow\">Ridge</label><div class=\"sk-toggleable__content\"><pre>Ridge(alpha=1)</pre></div></div></div></div></div>"
      ],
      "text/plain": [
       "Ridge(alpha=1)"
      ]
     },
     "execution_count": 42,
     "metadata": {},
     "output_type": "execute_result"
    }
   ],
   "source": [
    "model_Ridge = Ridge(alpha=1)\n",
    "model_Ridge.fit(X_train,y_train)"
   ]
  },
  {
   "cell_type": "code",
   "execution_count": 54,
   "metadata": {},
   "outputs": [
    {
     "data": {
      "text/plain": [
       "(133,)"
      ]
     },
     "execution_count": 54,
     "metadata": {},
     "output_type": "execute_result"
    }
   ],
   "source": [
    "y_test.shape"
   ]
  },
  {
   "cell_type": "code",
   "execution_count": 44,
   "metadata": {},
   "outputs": [
    {
     "data": {
      "text/plain": [
       "array([  45.05421022,  -71.94739737,  280.71625182,  195.21266175,\n",
       "         -2.22930269,  -17.54079744, -148.68886188,  120.46723979,\n",
       "        198.61440137,  106.93469215])"
      ]
     },
     "execution_count": 44,
     "metadata": {},
     "output_type": "execute_result"
    }
   ],
   "source": [
    "# 릿지 선형회귀 모델 평가: model_Ridge1, alpha=1\n",
    "y_pred = model_Ridge.predict(X_test)\n",
    "r2 = r2_score(y_test, y_pred)\n",
    "# a=1일때 회귀 계수 확인\n",
    "Ridge_coef = model_Ridge.coef_\n",
    "Ridge_coef"
   ]
  },
  {
   "cell_type": "code",
   "execution_count": null,
   "metadata": {},
   "outputs": [],
   "source": [
    "# 선형 모델 평가\n",
    "\n",
    "\n",
    "#a = 1 릿지 모델 회귀 계수\n"
   ]
  },
  {
   "cell_type": "markdown",
   "metadata": {},
   "source": [
    "- 계수값 시각화"
   ]
  },
  {
   "cell_type": "code",
   "execution_count": 49,
   "metadata": {},
   "outputs": [
    {
     "data": {
      "image/png": "[encoded data removed]",
      "text/plain": [
       "<Figure size 1000x800 with 1 Axes>"
      ]
     },
     "metadata": {},
     "output_type": "display_data"
    }
   ],
   "source": [
    "\n",
    "Ridge_coef = pd.Series(model_Ridge.coef_, index=diab.feature_names)\n",
    "Ridge_coef = Ridge_coef.sort_values(ascending=False)\n",
    "Ridge_coef = np.abs(Ridge_coef)\n",
    "# 시각화\n",
    "plt.figure(figsize=(10,8))\n",
    "\n",
    "plt.bar(Ridge_coef.index, Ridge_coef.values)\n",
    "plt.xticks(fontsize=20)\n",
    "plt.show() #회귀계수가 미치는 영향력이 작아짐을 확인할 수 있다."
   ]
  },
  {
   "cell_type": "code",
   "execution_count": 53,
   "metadata": {},
   "outputs": [
    {
     "data": {
      "text/plain": [
       "(133,)"
      ]
     },
     "execution_count": 53,
     "metadata": {},
     "output_type": "execute_result"
    }
   ],
   "source": [
    "y_test.shape"
   ]
  },
  {
   "cell_type": "code",
   "execution_count": 55,
   "metadata": {
    "scrolled": true
   },
   "outputs": [
    {
     "name": "stdout",
     "output_type": "stream",
     "text": [
      "mse is 2820.61\n",
      "rmse is 53.11\n",
      "r2 is 0.48\n",
      "mse is 2819.69\n",
      "rmse is 53.1\n",
      "r2 is 0.48\n",
      "mse is 3112.97\n",
      "rmse is 55.79\n",
      "r2 is 0.42\n",
      "mse is 4580.11\n",
      "rmse is 67.68\n",
      "r2 is 0.15\n",
      "mse is 5318.58\n",
      "rmse is 72.93\n",
      "r2 is 0.01\n"
     ]
    }
   ],
   "source": [
    "# alpha_list=[0.01, 1, 10, 100]인 경우\n",
    "alpha_list = [0.001, 0.01, 1, 10, 100]\n",
    "for alpha in alpha_list:\n",
    "    model_Ridge = Ridge(alpha)\n",
    "    model_Ridge.fit(X_train,y_train)\n",
    "    y_pred = model_Ridge.predict(X_test)\n",
    "    r2 = r2_score(y_test, y_pred)\n",
    "    get_score(y_test,y_pred)\n",
    "    col_name = f'Ridge(alpha={alpha})'\n",
    "    comp_df[col_name] = np.append(model_Ridge.coef_, r2)"
   ]
  },
  {
   "cell_type": "code",
   "execution_count": 56,
   "metadata": {},
   "outputs": [
    {
     "data": {
      "text/html": [
       "<div>\n",
       "<style scoped>\n",
       "    .dataframe tbody tr th:only-of-type {\n",
       "        vertical-align: middle;\n",
       "    }\n",
       "\n",
       "    .dataframe tbody tr th {\n",
       "        vertical-align: top;\n",
       "    }\n",
       "\n",
       "    .dataframe thead th {\n",
       "        text-align: right;\n",
       "    }\n",
       "</style>\n",
       "<table border=\"1\" class=\"dataframe\">\n",
       "  <thead>\n",
       "    <tr style=\"text-align: right;\">\n",
       "      <th></th>\n",
       "      <th>LR</th>\n",
       "      <th>Ridge(alpha=0.001)</th>\n",
       "      <th>Ridge(alpha=0.01)</th>\n",
       "      <th>Ridge(alpha=1)</th>\n",
       "      <th>Ridge(alpha=10)</th>\n",
       "      <th>Ridge(alpha=100)</th>\n",
       "    </tr>\n",
       "  </thead>\n",
       "  <tbody>\n",
       "    <tr>\n",
       "      <th>age</th>\n",
       "      <td>29.254013</td>\n",
       "      <td>30.280020</td>\n",
       "      <td>34.167328</td>\n",
       "      <td>45.054210</td>\n",
       "      <td>16.230889</td>\n",
       "      <td>2.072848</td>\n",
       "    </tr>\n",
       "    <tr>\n",
       "      <th>sex</th>\n",
       "      <td>-261.706469</td>\n",
       "      <td>-260.634036</td>\n",
       "      <td>-254.043316</td>\n",
       "      <td>-71.947397</td>\n",
       "      <td>-2.961367</td>\n",
       "      <td>-0.003808</td>\n",
       "    </tr>\n",
       "    <tr>\n",
       "      <th>bmi</th>\n",
       "      <td>546.299723</td>\n",
       "      <td>548.037053</td>\n",
       "      <td>550.844882</td>\n",
       "      <td>280.716252</td>\n",
       "      <td>59.524160</td>\n",
       "      <td>6.899915</td>\n",
       "    </tr>\n",
       "    <tr>\n",
       "      <th>bp</th>\n",
       "      <td>388.398341</td>\n",
       "      <td>386.916776</td>\n",
       "      <td>379.126708</td>\n",
       "      <td>195.212662</td>\n",
       "      <td>43.421300</td>\n",
       "      <td>5.085100</td>\n",
       "    </tr>\n",
       "    <tr>\n",
       "      <th>s1</th>\n",
       "      <td>-901.959668</td>\n",
       "      <td>-794.289176</td>\n",
       "      <td>-404.253263</td>\n",
       "      <td>-2.229303</td>\n",
       "      <td>13.875073</td>\n",
       "      <td>2.069660</td>\n",
       "    </tr>\n",
       "    <tr>\n",
       "      <th>s2</th>\n",
       "      <td>506.763241</td>\n",
       "      <td>423.104550</td>\n",
       "      <td>123.029219</td>\n",
       "      <td>-17.540797</td>\n",
       "      <td>10.865267</td>\n",
       "      <td>1.743748</td>\n",
       "    </tr>\n",
       "    <tr>\n",
       "      <th>s3</th>\n",
       "      <td>121.154351</td>\n",
       "      <td>73.363115</td>\n",
       "      <td>-99.041674</td>\n",
       "      <td>-148.688862</td>\n",
       "      <td>-37.495847</td>\n",
       "      <td>-4.508876</td>\n",
       "    </tr>\n",
       "    <tr>\n",
       "      <th>s4</th>\n",
       "      <td>288.035267</td>\n",
       "      <td>272.645792</td>\n",
       "      <td>215.032624</td>\n",
       "      <td>120.467240</td>\n",
       "      <td>38.728538</td>\n",
       "      <td>4.902421</td>\n",
       "    </tr>\n",
       "    <tr>\n",
       "      <th>s5</th>\n",
       "      <td>659.268951</td>\n",
       "      <td>617.161295</td>\n",
       "      <td>463.842634</td>\n",
       "      <td>198.614401</td>\n",
       "      <td>49.224746</td>\n",
       "      <td>5.926496</td>\n",
       "    </tr>\n",
       "    <tr>\n",
       "      <th>s6</th>\n",
       "      <td>41.376701</td>\n",
       "      <td>42.904834</td>\n",
       "      <td>50.351490</td>\n",
       "      <td>106.934692</td>\n",
       "      <td>34.737987</td>\n",
       "      <td>4.328698</td>\n",
       "    </tr>\n",
       "    <tr>\n",
       "      <th>R2 scores</th>\n",
       "      <td>0.477290</td>\n",
       "      <td>0.477500</td>\n",
       "      <td>0.477672</td>\n",
       "      <td>0.423344</td>\n",
       "      <td>0.151566</td>\n",
       "      <td>0.014770</td>\n",
       "    </tr>\n",
       "  </tbody>\n",
       "</table>\n",
       "</div>"
      ],
      "text/plain": [
       "                   LR  Ridge(alpha=0.001)  Ridge(alpha=0.01)  Ridge(alpha=1)  \\\n",
       "age         29.254013           30.280020          34.167328       45.054210   \n",
       "sex       -261.706469         -260.634036        -254.043316      -71.947397   \n",
       "bmi        546.299723          548.037053         550.844882      280.716252   \n",
       "bp         388.398341          386.916776         379.126708      195.212662   \n",
       "s1        -901.959668         -794.289176        -404.253263       -2.229303   \n",
       "s2         506.763241          423.104550         123.029219      -17.540797   \n",
       "s3         121.154351           73.363115         -99.041674     -148.688862   \n",
       "s4         288.035267          272.645792         215.032624      120.467240   \n",
       "s5         659.268951          617.161295         463.842634      198.614401   \n",
       "s6          41.376701           42.904834          50.351490      106.934692   \n",
       "R2 scores    0.477290            0.477500           0.477672        0.423344   \n",
       "\n",
       "           Ridge(alpha=10)  Ridge(alpha=100)  \n",
       "age              16.230889          2.072848  \n",
       "sex              -2.961367         -0.003808  \n",
       "bmi              59.524160          6.899915  \n",
       "bp               43.421300          5.085100  \n",
       "s1               13.875073          2.069660  \n",
       "s2               10.865267          1.743748  \n",
       "s3              -37.495847         -4.508876  \n",
       "s4               38.728538          4.902421  \n",
       "s5               49.224746          5.926496  \n",
       "s6               34.737987          4.328698  \n",
       "R2 scores         0.151566          0.014770  "
      ]
     },
     "execution_count": 56,
     "metadata": {},
     "output_type": "execute_result"
    }
   ],
   "source": [
    "comp_df"
   ]
  },
  {
   "cell_type": "markdown",
   "metadata": {},
   "source": [
    "# 2. 라쏘 모델"
   ]
  },
  {
   "cell_type": "code",
   "execution_count": 57,
   "metadata": {},
   "outputs": [
    {
     "data": {
      "text/plain": [
       "0.36189802861957876"
      ]
     },
     "execution_count": 57,
     "metadata": {},
     "output_type": "execute_result"
    }
   ],
   "source": [
    "# from sklearn.linear_model import lasso\n",
    "# alpha = 1\n",
    "model_Lasso = Lasso(alpha=1)\n",
    "model_Lasso.fit(X_train, y_train)"
   ]
  },
  {
   "cell_type": "code",
   "execution_count": 61,
   "metadata": {},
   "outputs": [
    {
     "name": "stdout",
     "output_type": "stream",
     "text": [
      "0.36189802861957876\n"
     ]
    }
   ],
   "source": [
    "# 라쏘 선형회귀 모델 평가(alpha=1)\n",
    "# 선형 모델 평가\n",
    "y_pred = model_Lasso.predict(X_test)\n",
    "r2= r2_score(y_test, y_pred)\n",
    "print(r2)\n",
    "#a = 1 라쏘 모델 회귀 계수\n",
    "Lasso_coef = pd.Series(model_Lasso.coef_,index=diab.feature_names)"
   ]
  },
  {
   "cell_type": "markdown",
   "metadata": {},
   "source": [
    "- 계수 시각화"
   ]
  },
  {
   "cell_type": "code",
   "execution_count": 62,
   "metadata": {},
   "outputs": [
    {
     "data": {
      "image/png": "[encoded data removed]",
      "text/plain": [
       "<Figure size 1000x800 with 1 Axes>"
      ]
     },
     "metadata": {},
     "output_type": "display_data"
    }
   ],
   "source": [
    "Lasso_coef = Lasso_coef.sort_values(ascending=False)\n",
    "Lasso_coef = np.abs(Lasso_coef)\n",
    "# 시각화\n",
    "plt.figure(figsize=(10,8))\n",
    "plt.bar(diab.feature_names, Lasso_coef.values)\n",
    "plt.show()"
   ]
  },
  {
   "cell_type": "code",
   "execution_count": 63,
   "metadata": {},
   "outputs": [
    {
     "name": "stdout",
     "output_type": "stream",
     "text": [
      "mse is 2820.4\n",
      "rmse is 53.11\n",
      "r2 is 0.48\n",
      "mse is 2814.06\n",
      "rmse is 53.05\n",
      "r2 is 0.48\n",
      "mse is 3444.67\n",
      "rmse is 58.69\n",
      "r2 is 0.36\n",
      "mse is 5432.89\n",
      "rmse is 73.71\n",
      "r2 is -0.01\n",
      "mse is 5432.89\n",
      "rmse is 73.71\n",
      "r2 is -0.01\n"
     ]
    },
    {
     "data": {
      "text/html": [
       "<div>\n",
       "<style scoped>\n",
       "    .dataframe tbody tr th:only-of-type {\n",
       "        vertical-align: middle;\n",
       "    }\n",
       "\n",
       "    .dataframe tbody tr th {\n",
       "        vertical-align: top;\n",
       "    }\n",
       "\n",
       "    .dataframe thead th {\n",
       "        text-align: right;\n",
       "    }\n",
       "</style>\n",
       "<table border=\"1\" class=\"dataframe\">\n",
       "  <thead>\n",
       "    <tr style=\"text-align: right;\">\n",
       "      <th></th>\n",
       "      <th>LR</th>\n",
       "      <th>Ridge(alpha=0.001)</th>\n",
       "      <th>Ridge(alpha=0.01)</th>\n",
       "      <th>Ridge(alpha=1)</th>\n",
       "      <th>Ridge(alpha=10)</th>\n",
       "      <th>Ridge(alpha=100)</th>\n",
       "      <th>Lasso(alpha=0.001)</th>\n",
       "      <th>Lasso(alpha=0.01)</th>\n",
       "      <th>Lasso(alpha=1)</th>\n",
       "      <th>Lasso(alpha=10)</th>\n",
       "      <th>Lasso(alpha=100)</th>\n",
       "    </tr>\n",
       "  </thead>\n",
       "  <tbody>\n",
       "    <tr>\n",
       "      <th>age</th>\n",
       "      <td>29.254013</td>\n",
       "      <td>30.280020</td>\n",
       "      <td>34.167328</td>\n",
       "      <td>45.054210</td>\n",
       "      <td>16.230889</td>\n",
       "      <td>2.072848</td>\n",
       "      <td>29.392000</td>\n",
       "      <td>28.246364</td>\n",
       "      <td>0.000000</td>\n",
       "      <td>0.000000</td>\n",
       "      <td>0.000000</td>\n",
       "    </tr>\n",
       "    <tr>\n",
       "      <th>sex</th>\n",
       "      <td>-261.706469</td>\n",
       "      <td>-260.634036</td>\n",
       "      <td>-254.043316</td>\n",
       "      <td>-71.947397</td>\n",
       "      <td>-2.961367</td>\n",
       "      <td>-0.003808</td>\n",
       "      <td>-260.685721</td>\n",
       "      <td>-250.819184</td>\n",
       "      <td>-0.000000</td>\n",
       "      <td>0.000000</td>\n",
       "      <td>0.000000</td>\n",
       "    </tr>\n",
       "    <tr>\n",
       "      <th>bmi</th>\n",
       "      <td>546.299723</td>\n",
       "      <td>548.037053</td>\n",
       "      <td>550.844882</td>\n",
       "      <td>280.716252</td>\n",
       "      <td>59.524160</td>\n",
       "      <td>6.899915</td>\n",
       "      <td>547.389419</td>\n",
       "      <td>556.215874</td>\n",
       "      <td>443.703388</td>\n",
       "      <td>0.000000</td>\n",
       "      <td>0.000000</td>\n",
       "    </tr>\n",
       "    <tr>\n",
       "      <th>bp</th>\n",
       "      <td>388.398341</td>\n",
       "      <td>386.916776</td>\n",
       "      <td>379.126708</td>\n",
       "      <td>195.212662</td>\n",
       "      <td>43.421300</td>\n",
       "      <td>5.085100</td>\n",
       "      <td>387.424955</td>\n",
       "      <td>380.659502</td>\n",
       "      <td>51.601094</td>\n",
       "      <td>0.000000</td>\n",
       "      <td>0.000000</td>\n",
       "    </tr>\n",
       "    <tr>\n",
       "      <th>s1</th>\n",
       "      <td>-901.959668</td>\n",
       "      <td>-794.289176</td>\n",
       "      <td>-404.253263</td>\n",
       "      <td>-2.229303</td>\n",
       "      <td>13.875073</td>\n",
       "      <td>2.069660</td>\n",
       "      <td>-837.831776</td>\n",
       "      <td>-468.739540</td>\n",
       "      <td>0.000000</td>\n",
       "      <td>0.000000</td>\n",
       "      <td>0.000000</td>\n",
       "    </tr>\n",
       "    <tr>\n",
       "      <th>s2</th>\n",
       "      <td>506.763241</td>\n",
       "      <td>423.104550</td>\n",
       "      <td>123.029219</td>\n",
       "      <td>-17.540797</td>\n",
       "      <td>10.865267</td>\n",
       "      <td>1.743748</td>\n",
       "      <td>458.404594</td>\n",
       "      <td>166.993417</td>\n",
       "      <td>0.000000</td>\n",
       "      <td>0.000000</td>\n",
       "      <td>0.000000</td>\n",
       "    </tr>\n",
       "    <tr>\n",
       "      <th>s3</th>\n",
       "      <td>121.154351</td>\n",
       "      <td>73.363115</td>\n",
       "      <td>-99.041674</td>\n",
       "      <td>-148.688862</td>\n",
       "      <td>-37.495847</td>\n",
       "      <td>-4.508876</td>\n",
       "      <td>90.646780</td>\n",
       "      <td>-60.219459</td>\n",
       "      <td>-0.000000</td>\n",
       "      <td>-0.000000</td>\n",
       "      <td>-0.000000</td>\n",
       "    </tr>\n",
       "    <tr>\n",
       "      <th>s4</th>\n",
       "      <td>288.035267</td>\n",
       "      <td>272.645792</td>\n",
       "      <td>215.032624</td>\n",
       "      <td>120.467240</td>\n",
       "      <td>38.728538</td>\n",
       "      <td>4.902421</td>\n",
       "      <td>275.688793</td>\n",
       "      <td>230.916253</td>\n",
       "      <td>0.000000</td>\n",
       "      <td>0.000000</td>\n",
       "      <td>0.000000</td>\n",
       "    </tr>\n",
       "    <tr>\n",
       "      <th>s5</th>\n",
       "      <td>659.268951</td>\n",
       "      <td>617.161295</td>\n",
       "      <td>463.842634</td>\n",
       "      <td>198.614401</td>\n",
       "      <td>49.224746</td>\n",
       "      <td>5.926496</td>\n",
       "      <td>635.389200</td>\n",
       "      <td>492.634358</td>\n",
       "      <td>201.966478</td>\n",
       "      <td>0.000000</td>\n",
       "      <td>0.000000</td>\n",
       "    </tr>\n",
       "    <tr>\n",
       "      <th>s6</th>\n",
       "      <td>41.376701</td>\n",
       "      <td>42.904834</td>\n",
       "      <td>50.351490</td>\n",
       "      <td>106.934692</td>\n",
       "      <td>34.737987</td>\n",
       "      <td>4.328698</td>\n",
       "      <td>41.770436</td>\n",
       "      <td>43.969346</td>\n",
       "      <td>0.000000</td>\n",
       "      <td>0.000000</td>\n",
       "      <td>0.000000</td>\n",
       "    </tr>\n",
       "    <tr>\n",
       "      <th>R2 scores</th>\n",
       "      <td>0.477290</td>\n",
       "      <td>0.477500</td>\n",
       "      <td>0.477672</td>\n",
       "      <td>0.423344</td>\n",
       "      <td>0.151566</td>\n",
       "      <td>0.014770</td>\n",
       "      <td>0.477540</td>\n",
       "      <td>0.478714</td>\n",
       "      <td>0.361898</td>\n",
       "      <td>-0.006405</td>\n",
       "      <td>-0.006405</td>\n",
       "    </tr>\n",
       "  </tbody>\n",
       "</table>\n",
       "</div>"
      ],
      "text/plain": [
       "                   LR  Ridge(alpha=0.001)  Ridge(alpha=0.01)  Ridge(alpha=1)  \\\n",
       "age         29.254013           30.280020          34.167328       45.054210   \n",
       "sex       -261.706469         -260.634036        -254.043316      -71.947397   \n",
       "bmi        546.299723          548.037053         550.844882      280.716252   \n",
       "bp         388.398341          386.916776         379.126708      195.212662   \n",
       "s1        -901.959668         -794.289176        -404.253263       -2.229303   \n",
       "s2         506.763241          423.104550         123.029219      -17.540797   \n",
       "s3         121.154351           73.363115         -99.041674     -148.688862   \n",
       "s4         288.035267          272.645792         215.032624      120.467240   \n",
       "s5         659.268951          617.161295         463.842634      198.614401   \n",
       "s6          41.376701           42.904834          50.351490      106.934692   \n",
       "R2 scores    0.477290            0.477500           0.477672        0.423344   \n",
       "\n",
       "           Ridge(alpha=10)  Ridge(alpha=100)  Lasso(alpha=0.001)  \\\n",
       "age              16.230889          2.072848           29.392000   \n",
       "sex              -2.961367         -0.003808         -260.685721   \n",
       "bmi              59.524160          6.899915          547.389419   \n",
       "bp               43.421300          5.085100          387.424955   \n",
       "s1               13.875073          2.069660         -837.831776   \n",
       "s2               10.865267          1.743748          458.404594   \n",
       "s3              -37.495847         -4.508876           90.646780   \n",
       "s4               38.728538          4.902421          275.688793   \n",
       "s5               49.224746          5.926496          635.389200   \n",
       "s6               34.737987          4.328698           41.770436   \n",
       "R2 scores         0.151566          0.014770            0.477540   \n",
       "\n",
       "           Lasso(alpha=0.01)  Lasso(alpha=1)  Lasso(alpha=10)  \\\n",
       "age                28.246364        0.000000         0.000000   \n",
       "sex              -250.819184       -0.000000         0.000000   \n",
       "bmi               556.215874      443.703388         0.000000   \n",
       "bp                380.659502       51.601094         0.000000   \n",
       "s1               -468.739540        0.000000         0.000000   \n",
       "s2                166.993417        0.000000         0.000000   \n",
       "s3                -60.219459       -0.000000        -0.000000   \n",
       "s4                230.916253        0.000000         0.000000   \n",
       "s5                492.634358      201.966478         0.000000   \n",
       "s6                 43.969346        0.000000         0.000000   \n",
       "R2 scores           0.478714        0.361898        -0.006405   \n",
       "\n",
       "           Lasso(alpha=100)  \n",
       "age                0.000000  \n",
       "sex                0.000000  \n",
       "bmi                0.000000  \n",
       "bp                 0.000000  \n",
       "s1                 0.000000  \n",
       "s2                 0.000000  \n",
       "s3                -0.000000  \n",
       "s4                 0.000000  \n",
       "s5                 0.000000  \n",
       "s6                 0.000000  \n",
       "R2 scores         -0.006405  "
      ]
     },
     "execution_count": 63,
     "metadata": {},
     "output_type": "execute_result"
    }
   ],
   "source": [
    "# alpha_list=[0.01, 1, 10, 100]인 경우\n",
    "alpha_list = [0.001, 0.01, 1, 10, 100]\n",
    "for alpha in alpha_list:\n",
    "    model_Lasso = Lasso(alpha)\n",
    "    model_Lasso.fit(X_train,y_train)\n",
    "    y_pred = model_Lasso.predict(X_test)\n",
    "    r2 = r2_score(y_test, y_pred)\n",
    "    get_score(y_test,y_pred)\n",
    "    col_name = f'Lasso(alpha={alpha})'\n",
    "    comp_df[col_name] = np.append(model_Lasso.coef_, r2)\n",
    "comp_df"
   ]
  },
  {
   "cell_type": "code",
   "execution_count": 64,
   "metadata": {},
   "outputs": [
    {
     "data": {
      "text/html": [
       "<div>\n",
       "<style scoped>\n",
       "    .dataframe tbody tr th:only-of-type {\n",
       "        vertical-align: middle;\n",
       "    }\n",
       "\n",
       "    .dataframe tbody tr th {\n",
       "        vertical-align: top;\n",
       "    }\n",
       "\n",
       "    .dataframe thead th {\n",
       "        text-align: right;\n",
       "    }\n",
       "</style>\n",
       "<table border=\"1\" class=\"dataframe\">\n",
       "  <thead>\n",
       "    <tr style=\"text-align: right;\">\n",
       "      <th></th>\n",
       "      <th>LR</th>\n",
       "      <th>Ridge(alpha=0.001)</th>\n",
       "      <th>Ridge(alpha=0.01)</th>\n",
       "      <th>Ridge(alpha=1)</th>\n",
       "      <th>Ridge(alpha=10)</th>\n",
       "      <th>Ridge(alpha=100)</th>\n",
       "      <th>Lasso(alpha=0.001)</th>\n",
       "      <th>Lasso(alpha=0.01)</th>\n",
       "      <th>Lasso(alpha=1)</th>\n",
       "      <th>Lasso(alpha=10)</th>\n",
       "      <th>Lasso(alpha=100)</th>\n",
       "    </tr>\n",
       "  </thead>\n",
       "  <tbody>\n",
       "    <tr>\n",
       "      <th>age</th>\n",
       "      <td>29.254013</td>\n",
       "      <td>30.280020</td>\n",
       "      <td>34.167328</td>\n",
       "      <td>45.054210</td>\n",
       "      <td>16.230889</td>\n",
       "      <td>2.072848</td>\n",
       "      <td>29.392000</td>\n",
       "      <td>28.246364</td>\n",
       "      <td>0.000000</td>\n",
       "      <td>0.000000</td>\n",
       "      <td>0.000000</td>\n",
       "    </tr>\n",
       "    <tr>\n",
       "      <th>sex</th>\n",
       "      <td>-261.706469</td>\n",
       "      <td>-260.634036</td>\n",
       "      <td>-254.043316</td>\n",
       "      <td>-71.947397</td>\n",
       "      <td>-2.961367</td>\n",
       "      <td>-0.003808</td>\n",
       "      <td>-260.685721</td>\n",
       "      <td>-250.819184</td>\n",
       "      <td>-0.000000</td>\n",
       "      <td>0.000000</td>\n",
       "      <td>0.000000</td>\n",
       "    </tr>\n",
       "    <tr>\n",
       "      <th>bmi</th>\n",
       "      <td>546.299723</td>\n",
       "      <td>548.037053</td>\n",
       "      <td>550.844882</td>\n",
       "      <td>280.716252</td>\n",
       "      <td>59.524160</td>\n",
       "      <td>6.899915</td>\n",
       "      <td>547.389419</td>\n",
       "      <td>556.215874</td>\n",
       "      <td>443.703388</td>\n",
       "      <td>0.000000</td>\n",
       "      <td>0.000000</td>\n",
       "    </tr>\n",
       "    <tr>\n",
       "      <th>bp</th>\n",
       "      <td>388.398341</td>\n",
       "      <td>386.916776</td>\n",
       "      <td>379.126708</td>\n",
       "      <td>195.212662</td>\n",
       "      <td>43.421300</td>\n",
       "      <td>5.085100</td>\n",
       "      <td>387.424955</td>\n",
       "      <td>380.659502</td>\n",
       "      <td>51.601094</td>\n",
       "      <td>0.000000</td>\n",
       "      <td>0.000000</td>\n",
       "    </tr>\n",
       "    <tr>\n",
       "      <th>s1</th>\n",
       "      <td>-901.959668</td>\n",
       "      <td>-794.289176</td>\n",
       "      <td>-404.253263</td>\n",
       "      <td>-2.229303</td>\n",
       "      <td>13.875073</td>\n",
       "      <td>2.069660</td>\n",
       "      <td>-837.831776</td>\n",
       "      <td>-468.739540</td>\n",
       "      <td>0.000000</td>\n",
       "      <td>0.000000</td>\n",
       "      <td>0.000000</td>\n",
       "    </tr>\n",
       "    <tr>\n",
       "      <th>s2</th>\n",
       "      <td>506.763241</td>\n",
       "      <td>423.104550</td>\n",
       "      <td>123.029219</td>\n",
       "      <td>-17.540797</td>\n",
       "      <td>10.865267</td>\n",
       "      <td>1.743748</td>\n",
       "      <td>458.404594</td>\n",
       "      <td>166.993417</td>\n",
       "      <td>0.000000</td>\n",
       "      <td>0.000000</td>\n",
       "      <td>0.000000</td>\n",
       "    </tr>\n",
       "    <tr>\n",
       "      <th>s3</th>\n",
       "      <td>121.154351</td>\n",
       "      <td>73.363115</td>\n",
       "      <td>-99.041674</td>\n",
       "      <td>-148.688862</td>\n",
       "      <td>-37.495847</td>\n",
       "      <td>-4.508876</td>\n",
       "      <td>90.646780</td>\n",
       "      <td>-60.219459</td>\n",
       "      <td>-0.000000</td>\n",
       "      <td>-0.000000</td>\n",
       "      <td>-0.000000</td>\n",
       "    </tr>\n",
       "    <tr>\n",
       "      <th>s4</th>\n",
       "      <td>288.035267</td>\n",
       "      <td>272.645792</td>\n",
       "      <td>215.032624</td>\n",
       "      <td>120.467240</td>\n",
       "      <td>38.728538</td>\n",
       "      <td>4.902421</td>\n",
       "      <td>275.688793</td>\n",
       "      <td>230.916253</td>\n",
       "      <td>0.000000</td>\n",
       "      <td>0.000000</td>\n",
       "      <td>0.000000</td>\n",
       "    </tr>\n",
       "    <tr>\n",
       "      <th>s5</th>\n",
       "      <td>659.268951</td>\n",
       "      <td>617.161295</td>\n",
       "      <td>463.842634</td>\n",
       "      <td>198.614401</td>\n",
       "      <td>49.224746</td>\n",
       "      <td>5.926496</td>\n",
       "      <td>635.389200</td>\n",
       "      <td>492.634358</td>\n",
       "      <td>201.966478</td>\n",
       "      <td>0.000000</td>\n",
       "      <td>0.000000</td>\n",
       "    </tr>\n",
       "    <tr>\n",
       "      <th>s6</th>\n",
       "      <td>41.376701</td>\n",
       "      <td>42.904834</td>\n",
       "      <td>50.351490</td>\n",
       "      <td>106.934692</td>\n",
       "      <td>34.737987</td>\n",
       "      <td>4.328698</td>\n",
       "      <td>41.770436</td>\n",
       "      <td>43.969346</td>\n",
       "      <td>0.000000</td>\n",
       "      <td>0.000000</td>\n",
       "      <td>0.000000</td>\n",
       "    </tr>\n",
       "    <tr>\n",
       "      <th>R2 scores</th>\n",
       "      <td>0.477290</td>\n",
       "      <td>0.477500</td>\n",
       "      <td>0.477672</td>\n",
       "      <td>0.423344</td>\n",
       "      <td>0.151566</td>\n",
       "      <td>0.014770</td>\n",
       "      <td>0.477540</td>\n",
       "      <td>0.478714</td>\n",
       "      <td>0.361898</td>\n",
       "      <td>-0.006405</td>\n",
       "      <td>-0.006405</td>\n",
       "    </tr>\n",
       "  </tbody>\n",
       "</table>\n",
       "</div>"
      ],
      "text/plain": [
       "                   LR  Ridge(alpha=0.001)  Ridge(alpha=0.01)  Ridge(alpha=1)  \\\n",
       "age         29.254013           30.280020          34.167328       45.054210   \n",
       "sex       -261.706469         -260.634036        -254.043316      -71.947397   \n",
       "bmi        546.299723          548.037053         550.844882      280.716252   \n",
       "bp         388.398341          386.916776         379.126708      195.212662   \n",
       "s1        -901.959668         -794.289176        -404.253263       -2.229303   \n",
       "s2         506.763241          423.104550         123.029219      -17.540797   \n",
       "s3         121.154351           73.363115         -99.041674     -148.688862   \n",
       "s4         288.035267          272.645792         215.032624      120.467240   \n",
       "s5         659.268951          617.161295         463.842634      198.614401   \n",
       "s6          41.376701           42.904834          50.351490      106.934692   \n",
       "R2 scores    0.477290            0.477500           0.477672        0.423344   \n",
       "\n",
       "           Ridge(alpha=10)  Ridge(alpha=100)  Lasso(alpha=0.001)  \\\n",
       "age              16.230889          2.072848           29.392000   \n",
       "sex              -2.961367         -0.003808         -260.685721   \n",
       "bmi              59.524160          6.899915          547.389419   \n",
       "bp               43.421300          5.085100          387.424955   \n",
       "s1               13.875073          2.069660         -837.831776   \n",
       "s2               10.865267          1.743748          458.404594   \n",
       "s3              -37.495847         -4.508876           90.646780   \n",
       "s4               38.728538          4.902421          275.688793   \n",
       "s5               49.224746          5.926496          635.389200   \n",
       "s6               34.737987          4.328698           41.770436   \n",
       "R2 scores         0.151566          0.014770            0.477540   \n",
       "\n",
       "           Lasso(alpha=0.01)  Lasso(alpha=1)  Lasso(alpha=10)  \\\n",
       "age                28.246364        0.000000         0.000000   \n",
       "sex              -250.819184       -0.000000         0.000000   \n",
       "bmi               556.215874      443.703388         0.000000   \n",
       "bp                380.659502       51.601094         0.000000   \n",
       "s1               -468.739540        0.000000         0.000000   \n",
       "s2                166.993417        0.000000         0.000000   \n",
       "s3                -60.219459       -0.000000        -0.000000   \n",
       "s4                230.916253        0.000000         0.000000   \n",
       "s5                492.634358      201.966478         0.000000   \n",
       "s6                 43.969346        0.000000         0.000000   \n",
       "R2 scores           0.478714        0.361898        -0.006405   \n",
       "\n",
       "           Lasso(alpha=100)  \n",
       "age                0.000000  \n",
       "sex                0.000000  \n",
       "bmi                0.000000  \n",
       "bp                 0.000000  \n",
       "s1                 0.000000  \n",
       "s2                 0.000000  \n",
       "s3                -0.000000  \n",
       "s4                 0.000000  \n",
       "s5                 0.000000  \n",
       "s6                 0.000000  \n",
       "R2 scores         -0.006405  "
      ]
     },
     "execution_count": 64,
     "metadata": {},
     "output_type": "execute_result"
    }
   ],
   "source": [
    "comp_df"
   ]
  },
  {
   "cell_type": "markdown",
   "metadata": {},
   "source": [
    "# 3. 엘라스틱넷 모델"
   ]
  },
  {
   "cell_type": "code",
   "execution_count": 66,
   "metadata": {},
   "outputs": [
    {
     "data": {
      "text/html": [
       "<style>#sk-container-id-3 {color: black;background-color: white;}#sk-container-id-3 pre{padding: 0;}#sk-container-id-3 div.sk-toggleable {background-color: white;}#sk-container-id-3 label.sk-toggleable__label {cursor: pointer;display: block;width: 100%;margin-bottom: 0;padding: 0.3em;box-sizing: border-box;text-align: center;}#sk-container-id-3 label.sk-toggleable__label-arrow:before {content: \"▸\";float: left;margin-right: 0.25em;color: #696969;}#sk-container-id-3 label.sk-toggleable__label-arrow:hover:before {color: black;}#sk-container-id-3 div.sk-estimator:hover label.sk-toggleable__label-arrow:before {color: black;}#sk-container-id-3 div.sk-toggleable__content {max-height: 0;max-width: 0;overflow: hidden;text-align: left;background-color: #f0f8ff;}#sk-container-id-3 div.sk-toggleable__content pre {margin: 0.2em;color: black;border-radius: 0.25em;background-color: #f0f8ff;}#sk-container-id-3 input.sk-toggleable__control:checked~div.sk-toggleable__content {max-height: 200px;max-width: 100%;overflow: auto;}#sk-container-id-3 input.sk-toggleable__control:checked~label.sk-toggleable__label-arrow:before {content: \"▾\";}#sk-container-id-3 div.sk-estimator input.sk-toggleable__control:checked~label.sk-toggleable__label {background-color: #d4ebff;}#sk-container-id-3 div.sk-label input.sk-toggleable__control:checked~label.sk-toggleable__label {background-color: #d4ebff;}#sk-container-id-3 input.sk-hidden--visually {border: 0;clip: rect(1px 1px 1px 1px);clip: rect(1px, 1px, 1px, 1px);height: 1px;margin: -1px;overflow: hidden;padding: 0;position: absolute;width: 1px;}#sk-container-id-3 div.sk-estimator {font-family: monospace;background-color: #f0f8ff;border: 1px dotted black;border-radius: 0.25em;box-sizing: border-box;margin-bottom: 0.5em;}#sk-container-id-3 div.sk-estimator:hover {background-color: #d4ebff;}#sk-container-id-3 div.sk-parallel-item::after {content: \"\";width: 100%;border-bottom: 1px solid gray;flex-grow: 1;}#sk-container-id-3 div.sk-label:hover label.sk-toggleable__label {background-color: #d4ebff;}#sk-container-id-3 div.sk-serial::before {content: \"\";position: absolute;border-left: 1px solid gray;box-sizing: border-box;top: 0;bottom: 0;left: 50%;z-index: 0;}#sk-container-id-3 div.sk-serial {display: flex;flex-direction: column;align-items: center;background-color: white;padding-right: 0.2em;padding-left: 0.2em;position: relative;}#sk-container-id-3 div.sk-item {position: relative;z-index: 1;}#sk-container-id-3 div.sk-parallel {display: flex;align-items: stretch;justify-content: center;background-color: white;position: relative;}#sk-container-id-3 div.sk-item::before, #sk-container-id-3 div.sk-parallel-item::before {content: \"\";position: absolute;border-left: 1px solid gray;box-sizing: border-box;top: 0;bottom: 0;left: 50%;z-index: -1;}#sk-container-id-3 div.sk-parallel-item {display: flex;flex-direction: column;z-index: 1;position: relative;background-color: white;}#sk-container-id-3 div.sk-parallel-item:first-child::after {align-self: flex-end;width: 50%;}#sk-container-id-3 div.sk-parallel-item:last-child::after {align-self: flex-start;width: 50%;}#sk-container-id-3 div.sk-parallel-item:only-child::after {width: 0;}#sk-container-id-3 div.sk-dashed-wrapped {border: 1px dashed gray;margin: 0 0.4em 0.5em 0.4em;box-sizing: border-box;padding-bottom: 0.4em;background-color: white;}#sk-container-id-3 div.sk-label label {font-family: monospace;font-weight: bold;display: inline-block;line-height: 1.2em;}#sk-container-id-3 div.sk-label-container {text-align: center;}#sk-container-id-3 div.sk-container {/* jupyter's `normalize.less` sets `[hidden] { display: none; }` but bootstrap.min.css set `[hidden] { display: none !important; }` so we also need the `!important` here to be able to override the default hidden behavior on the sphinx rendered scikit-learn.org. See: https://github.com/scikit-learn/scikit-learn/issues/21755 */display: inline-block !important;position: relative;}#sk-container-id-3 div.sk-text-repr-fallback {display: none;}</style><div id=\"sk-container-id-3\" class=\"sk-top-container\"><div class=\"sk-text-repr-fallback\"><pre>ElasticNet(alpha=0.1)</pre><b>In a Jupyter environment, please rerun this cell to show the HTML representation or trust the notebook. <br />On GitHub, the HTML representation is unable to render, please try loading this page with nbviewer.org.</b></div><div class=\"sk-container\" hidden><div class=\"sk-item\"><div class=\"sk-estimator sk-toggleable\"><input class=\"sk-toggleable__control sk-hidden--visually\" id=\"sk-estimator-id-3\" type=\"checkbox\" checked><label for=\"sk-estimator-id-3\" class=\"sk-toggleable__label sk-toggleable__label-arrow\">ElasticNet</label><div class=\"sk-toggleable__content\"><pre>ElasticNet(alpha=0.1)</pre></div></div></div></div></div>"
      ],
      "text/plain": [
       "ElasticNet(alpha=0.1)"
      ]
     },
     "execution_count": 66,
     "metadata": {},
     "output_type": "execute_result"
    }
   ],
   "source": [
    "from sklearn.linear_model import ElasticNet\n",
    "# 모델 구축 및 학습(alpha=1, l1_ratio=0.5)\n",
    "model_ElasticNet = ElasticNet(alpha=0.1, l1_ratio =0.5)\n",
    "model_ElasticNet.fit(X_train,y_train)"
   ]
  },
  {
   "cell_type": "code",
   "execution_count": 91,
   "metadata": {},
   "outputs": [
    {
     "name": "stdout",
     "output_type": "stream",
     "text": [
      "-0.006405449804164132\n"
     ]
    },
    {
     "data": {
      "text/plain": [
       "age    0.0\n",
       "sex    0.0\n",
       "bmi    0.0\n",
       "bp     0.0\n",
       "s1     0.0\n",
       "s2     0.0\n",
       "s3    -0.0\n",
       "s4     0.0\n",
       "s5     0.0\n",
       "s6     0.0\n",
       "dtype: float64"
      ]
     },
     "execution_count": 91,
     "metadata": {},
     "output_type": "execute_result"
    }
   ],
   "source": [
    "#모델 평가 및 회귀 계수 확인\n",
    "# 엘라스틱넷 선형회귀 모델 평가(alpha=1, L1_ratio=0.5)\n",
    "# 선형 모델 평가\n",
    "y_pred = model_ElasticNet.predict(X_test)\n",
    "r2 = r2_score(y_test,y_pred)\n",
    "print(r2)\n",
    "\n",
    "#a = 1 엘라스틱넷 모델 회귀 계수\n",
    "ElasticNet_coef = pd.Series(model_ElasticNet.coef_, index=diab.feature_names)\n",
    "ElasticNet_coef"
   ]
  },
  {
   "cell_type": "markdown",
   "metadata": {},
   "source": [
    "- 계수 시각화"
   ]
  },
  {
   "cell_type": "code",
   "execution_count": 70,
   "metadata": {},
   "outputs": [
    {
     "data": {
      "image/png": "[encoded data removed]",
      "text/plain": [
       "<Figure size 1000x800 with 1 Axes>"
      ]
     },
     "metadata": {},
     "output_type": "display_data"
    }
   ],
   "source": [
    "ElasticNet_coef = ElasticNet_coef.sort_values(ascending=False)\n",
    "ElasticNet_coef = np.abs(ElasticNet_coef)\n",
    "# 시각화\n",
    "plt.figure(figsize=(10,8))\n",
    "plt.bar(ElasticNet_coef.index,ElasticNet_coef)\n",
    "plt.show()"
   ]
  },
  {
   "cell_type": "code",
   "execution_count": 71,
   "metadata": {},
   "outputs": [
    {
     "name": "stdout",
     "output_type": "stream",
     "text": [
      "mse is 2806.79\n",
      "rmse is 52.98\n",
      "r2 is 0.48\n",
      "mse is 3323.0\n",
      "rmse is 57.65\n",
      "r2 is 0.38\n",
      "mse is 2821.75\n",
      "rmse is 53.12\n",
      "r2 is 0.48\n",
      "mse is 5381.54\n",
      "rmse is 73.36\n",
      "r2 is 0.0\n",
      "mse is 5381.54\n",
      "rmse is 73.36\n",
      "r2 is 0.0\n",
      "mse is 5432.89\n",
      "rmse is 73.71\n",
      "r2 is -0.01\n",
      "mse is 5432.89\n",
      "rmse is 73.71\n",
      "r2 is -0.01\n"
     ]
    },
    {
     "data": {
      "text/html": [
       "<div>\n",
       "<style scoped>\n",
       "    .dataframe tbody tr th:only-of-type {\n",
       "        vertical-align: middle;\n",
       "    }\n",
       "\n",
       "    .dataframe tbody tr th {\n",
       "        vertical-align: top;\n",
       "    }\n",
       "\n",
       "    .dataframe thead th {\n",
       "        text-align: right;\n",
       "    }\n",
       "</style>\n",
       "<table border=\"1\" class=\"dataframe\">\n",
       "  <thead>\n",
       "    <tr style=\"text-align: right;\">\n",
       "      <th></th>\n",
       "      <th>LR</th>\n",
       "      <th>Ridge(alpha=0.001)</th>\n",
       "      <th>Ridge(alpha=0.01)</th>\n",
       "      <th>Ridge(alpha=1)</th>\n",
       "      <th>Ridge(alpha=10)</th>\n",
       "      <th>Ridge(alpha=100)</th>\n",
       "      <th>Lasso(alpha=0.001)</th>\n",
       "      <th>Lasso(alpha=0.01)</th>\n",
       "      <th>Lasso(alpha=1)</th>\n",
       "      <th>Lasso(alpha=10)</th>\n",
       "      <th>Lasso(alpha=100)</th>\n",
       "      <th>Elastic(alpha=0.001)</th>\n",
       "      <th>Elastic(alpha=0.01)</th>\n",
       "      <th>Elastic(alpha=0)</th>\n",
       "      <th>Elastic(alpha=1)</th>\n",
       "      <th>Elastic(alpha=10)</th>\n",
       "      <th>Elastic(alpha=100)</th>\n",
       "    </tr>\n",
       "  </thead>\n",
       "  <tbody>\n",
       "    <tr>\n",
       "      <th>age</th>\n",
       "      <td>29.254013</td>\n",
       "      <td>30.280020</td>\n",
       "      <td>34.167328</td>\n",
       "      <td>45.054210</td>\n",
       "      <td>16.230889</td>\n",
       "      <td>2.072848</td>\n",
       "      <td>29.392000</td>\n",
       "      <td>28.246364</td>\n",
       "      <td>0.000000</td>\n",
       "      <td>0.000000</td>\n",
       "      <td>0.000000</td>\n",
       "      <td>41.062411</td>\n",
       "      <td>41.417999</td>\n",
       "      <td>29.254013</td>\n",
       "      <td>0.367567</td>\n",
       "      <td>0.000000</td>\n",
       "      <td>0.000000</td>\n",
       "    </tr>\n",
       "    <tr>\n",
       "      <th>sex</th>\n",
       "      <td>-261.706469</td>\n",
       "      <td>-260.634036</td>\n",
       "      <td>-254.043316</td>\n",
       "      <td>-71.947397</td>\n",
       "      <td>-2.961367</td>\n",
       "      <td>-0.003808</td>\n",
       "      <td>-260.685721</td>\n",
       "      <td>-250.819184</td>\n",
       "      <td>-0.000000</td>\n",
       "      <td>0.000000</td>\n",
       "      <td>0.000000</td>\n",
       "      <td>-194.697737</td>\n",
       "      <td>-45.935016</td>\n",
       "      <td>-261.706469</td>\n",
       "      <td>0.000000</td>\n",
       "      <td>0.000000</td>\n",
       "      <td>0.000000</td>\n",
       "    </tr>\n",
       "    <tr>\n",
       "      <th>bmi</th>\n",
       "      <td>546.299723</td>\n",
       "      <td>548.037053</td>\n",
       "      <td>550.844882</td>\n",
       "      <td>280.716252</td>\n",
       "      <td>59.524160</td>\n",
       "      <td>6.899915</td>\n",
       "      <td>547.389419</td>\n",
       "      <td>556.215874</td>\n",
       "      <td>443.703388</td>\n",
       "      <td>0.000000</td>\n",
       "      <td>0.000000</td>\n",
       "      <td>480.350838</td>\n",
       "      <td>225.053463</td>\n",
       "      <td>546.299723</td>\n",
       "      <td>3.512046</td>\n",
       "      <td>0.000000</td>\n",
       "      <td>0.000000</td>\n",
       "    </tr>\n",
       "    <tr>\n",
       "      <th>bp</th>\n",
       "      <td>388.398341</td>\n",
       "      <td>386.916776</td>\n",
       "      <td>379.126708</td>\n",
       "      <td>195.212662</td>\n",
       "      <td>43.421300</td>\n",
       "      <td>5.085100</td>\n",
       "      <td>387.424955</td>\n",
       "      <td>380.659502</td>\n",
       "      <td>51.601094</td>\n",
       "      <td>0.000000</td>\n",
       "      <td>0.000000</td>\n",
       "      <td>324.384414</td>\n",
       "      <td>158.163233</td>\n",
       "      <td>388.398341</td>\n",
       "      <td>2.328646</td>\n",
       "      <td>0.000000</td>\n",
       "      <td>0.000000</td>\n",
       "    </tr>\n",
       "    <tr>\n",
       "      <th>s1</th>\n",
       "      <td>-901.959668</td>\n",
       "      <td>-794.289176</td>\n",
       "      <td>-404.253263</td>\n",
       "      <td>-2.229303</td>\n",
       "      <td>13.875073</td>\n",
       "      <td>2.069660</td>\n",
       "      <td>-837.831776</td>\n",
       "      <td>-468.739540</td>\n",
       "      <td>0.000000</td>\n",
       "      <td>0.000000</td>\n",
       "      <td>0.000000</td>\n",
       "      <td>-83.383318</td>\n",
       "      <td>9.021067</td>\n",
       "      <td>-901.959664</td>\n",
       "      <td>0.380194</td>\n",
       "      <td>0.000000</td>\n",
       "      <td>0.000000</td>\n",
       "    </tr>\n",
       "    <tr>\n",
       "      <th>s2</th>\n",
       "      <td>506.763241</td>\n",
       "      <td>423.104550</td>\n",
       "      <td>123.029219</td>\n",
       "      <td>-17.540797</td>\n",
       "      <td>10.865267</td>\n",
       "      <td>1.743748</td>\n",
       "      <td>458.404594</td>\n",
       "      <td>166.993417</td>\n",
       "      <td>0.000000</td>\n",
       "      <td>0.000000</td>\n",
       "      <td>0.000000</td>\n",
       "      <td>-72.673949</td>\n",
       "      <td>-1.762029</td>\n",
       "      <td>506.763238</td>\n",
       "      <td>0.168337</td>\n",
       "      <td>0.000000</td>\n",
       "      <td>0.000000</td>\n",
       "    </tr>\n",
       "    <tr>\n",
       "      <th>s3</th>\n",
       "      <td>121.154351</td>\n",
       "      <td>73.363115</td>\n",
       "      <td>-99.041674</td>\n",
       "      <td>-148.688862</td>\n",
       "      <td>-37.495847</td>\n",
       "      <td>-4.508876</td>\n",
       "      <td>90.646780</td>\n",
       "      <td>-60.219459</td>\n",
       "      <td>-0.000000</td>\n",
       "      <td>-0.000000</td>\n",
       "      <td>-0.000000</td>\n",
       "      <td>-211.554636</td>\n",
       "      <td>-124.240022</td>\n",
       "      <td>121.154349</td>\n",
       "      <td>-1.955958</td>\n",
       "      <td>-0.000000</td>\n",
       "      <td>-0.000000</td>\n",
       "    </tr>\n",
       "    <tr>\n",
       "      <th>s4</th>\n",
       "      <td>288.035267</td>\n",
       "      <td>272.645792</td>\n",
       "      <td>215.032624</td>\n",
       "      <td>120.467240</td>\n",
       "      <td>38.728538</td>\n",
       "      <td>4.902421</td>\n",
       "      <td>275.688793</td>\n",
       "      <td>230.916253</td>\n",
       "      <td>0.000000</td>\n",
       "      <td>0.000000</td>\n",
       "      <td>0.000000</td>\n",
       "      <td>153.069206</td>\n",
       "      <td>106.910117</td>\n",
       "      <td>288.035266</td>\n",
       "      <td>2.228128</td>\n",
       "      <td>0.000000</td>\n",
       "      <td>0.000000</td>\n",
       "    </tr>\n",
       "    <tr>\n",
       "      <th>s5</th>\n",
       "      <td>659.268951</td>\n",
       "      <td>617.161295</td>\n",
       "      <td>463.842634</td>\n",
       "      <td>198.614401</td>\n",
       "      <td>49.224746</td>\n",
       "      <td>5.926496</td>\n",
       "      <td>635.389200</td>\n",
       "      <td>492.634358</td>\n",
       "      <td>201.966478</td>\n",
       "      <td>0.000000</td>\n",
       "      <td>0.000000</td>\n",
       "      <td>313.657355</td>\n",
       "      <td>165.006085</td>\n",
       "      <td>659.268949</td>\n",
       "      <td>2.887428</td>\n",
       "      <td>0.000000</td>\n",
       "      <td>0.000000</td>\n",
       "    </tr>\n",
       "    <tr>\n",
       "      <th>s6</th>\n",
       "      <td>41.376701</td>\n",
       "      <td>42.904834</td>\n",
       "      <td>50.351490</td>\n",
       "      <td>106.934692</td>\n",
       "      <td>34.737987</td>\n",
       "      <td>4.328698</td>\n",
       "      <td>41.770436</td>\n",
       "      <td>43.969346</td>\n",
       "      <td>0.000000</td>\n",
       "      <td>0.000000</td>\n",
       "      <td>0.000000</td>\n",
       "      <td>87.211172</td>\n",
       "      <td>97.213477</td>\n",
       "      <td>41.376701</td>\n",
       "      <td>1.846225</td>\n",
       "      <td>0.000000</td>\n",
       "      <td>0.000000</td>\n",
       "    </tr>\n",
       "    <tr>\n",
       "      <th>R2 scores</th>\n",
       "      <td>0.477290</td>\n",
       "      <td>0.477500</td>\n",
       "      <td>0.477672</td>\n",
       "      <td>0.423344</td>\n",
       "      <td>0.151566</td>\n",
       "      <td>0.014770</td>\n",
       "      <td>0.477540</td>\n",
       "      <td>0.478714</td>\n",
       "      <td>0.361898</td>\n",
       "      <td>-0.006405</td>\n",
       "      <td>-0.006405</td>\n",
       "      <td>0.480062</td>\n",
       "      <td>0.384437</td>\n",
       "      <td>0.477290</td>\n",
       "      <td>0.003107</td>\n",
       "      <td>-0.006405</td>\n",
       "      <td>-0.006405</td>\n",
       "    </tr>\n",
       "  </tbody>\n",
       "</table>\n",
       "</div>"
      ],
      "text/plain": [
       "                   LR  Ridge(alpha=0.001)  Ridge(alpha=0.01)  Ridge(alpha=1)  \\\n",
       "age         29.254013           30.280020          34.167328       45.054210   \n",
       "sex       -261.706469         -260.634036        -254.043316      -71.947397   \n",
       "bmi        546.299723          548.037053         550.844882      280.716252   \n",
       "bp         388.398341          386.916776         379.126708      195.212662   \n",
       "s1        -901.959668         -794.289176        -404.253263       -2.229303   \n",
       "s2         506.763241          423.104550         123.029219      -17.540797   \n",
       "s3         121.154351           73.363115         -99.041674     -148.688862   \n",
       "s4         288.035267          272.645792         215.032624      120.467240   \n",
       "s5         659.268951          617.161295         463.842634      198.614401   \n",
       "s6          41.376701           42.904834          50.351490      106.934692   \n",
       "R2 scores    0.477290            0.477500           0.477672        0.423344   \n",
       "\n",
       "           Ridge(alpha=10)  Ridge(alpha=100)  Lasso(alpha=0.001)  \\\n",
       "age              16.230889          2.072848           29.392000   \n",
       "sex              -2.961367         -0.003808         -260.685721   \n",
       "bmi              59.524160          6.899915          547.389419   \n",
       "bp               43.421300          5.085100          387.424955   \n",
       "s1               13.875073          2.069660         -837.831776   \n",
       "s2               10.865267          1.743748          458.404594   \n",
       "s3              -37.495847         -4.508876           90.646780   \n",
       "s4               38.728538          4.902421          275.688793   \n",
       "s5               49.224746          5.926496          635.389200   \n",
       "s6               34.737987          4.328698           41.770436   \n",
       "R2 scores         0.151566          0.014770            0.477540   \n",
       "\n",
       "           Lasso(alpha=0.01)  Lasso(alpha=1)  Lasso(alpha=10)  \\\n",
       "age                28.246364        0.000000         0.000000   \n",
       "sex              -250.819184       -0.000000         0.000000   \n",
       "bmi               556.215874      443.703388         0.000000   \n",
       "bp                380.659502       51.601094         0.000000   \n",
       "s1               -468.739540        0.000000         0.000000   \n",
       "s2                166.993417        0.000000         0.000000   \n",
       "s3                -60.219459       -0.000000        -0.000000   \n",
       "s4                230.916253        0.000000         0.000000   \n",
       "s5                492.634358      201.966478         0.000000   \n",
       "s6                 43.969346        0.000000         0.000000   \n",
       "R2 scores           0.478714        0.361898        -0.006405   \n",
       "\n",
       "           Lasso(alpha=100)  Elastic(alpha=0.001)  Elastic(alpha=0.01)  \\\n",
       "age                0.000000             41.062411            41.417999   \n",
       "sex                0.000000           -194.697737           -45.935016   \n",
       "bmi                0.000000            480.350838           225.053463   \n",
       "bp                 0.000000            324.384414           158.163233   \n",
       "s1                 0.000000            -83.383318             9.021067   \n",
       "s2                 0.000000            -72.673949            -1.762029   \n",
       "s3                -0.000000           -211.554636          -124.240022   \n",
       "s4                 0.000000            153.069206           106.910117   \n",
       "s5                 0.000000            313.657355           165.006085   \n",
       "s6                 0.000000             87.211172            97.213477   \n",
       "R2 scores         -0.006405              0.480062             0.384437   \n",
       "\n",
       "           Elastic(alpha=0)  Elastic(alpha=1)  Elastic(alpha=10)  \\\n",
       "age               29.254013          0.367567           0.000000   \n",
       "sex             -261.706469          0.000000           0.000000   \n",
       "bmi              546.299723          3.512046           0.000000   \n",
       "bp               388.398341          2.328646           0.000000   \n",
       "s1              -901.959664          0.380194           0.000000   \n",
       "s2               506.763238          0.168337           0.000000   \n",
       "s3               121.154349         -1.955958          -0.000000   \n",
       "s4               288.035266          2.228128           0.000000   \n",
       "s5               659.268949          2.887428           0.000000   \n",
       "s6                41.376701          1.846225           0.000000   \n",
       "R2 scores          0.477290          0.003107          -0.006405   \n",
       "\n",
       "           Elastic(alpha=100)  \n",
       "age                  0.000000  \n",
       "sex                  0.000000  \n",
       "bmi                  0.000000  \n",
       "bp                   0.000000  \n",
       "s1                   0.000000  \n",
       "s2                   0.000000  \n",
       "s3                  -0.000000  \n",
       "s4                   0.000000  \n",
       "s5                   0.000000  \n",
       "s6                   0.000000  \n",
       "R2 scores           -0.006405  "
      ]
     },
     "execution_count": 71,
     "metadata": {},
     "output_type": "execute_result"
    }
   ],
   "source": [
    "# alpha_list=[0.01, 1, 10, 100]인 경우, l1_ratio=0.5 \n",
    "alpha_list = [0.001, 0.01, 0,1, 1, 10, 100]\n",
    "for alpha in alpha_list:\n",
    "    model_ElasticNet = ElasticNet(alpha=alpha)\n",
    "    model_ElasticNet.fit(X_train,y_train)\n",
    "    y_pred = model_ElasticNet.predict(X_test)\n",
    "    r2 = r2_score(y_test, y_pred)\n",
    "    get_score(y_test,y_pred)\n",
    "    col_name = f'Elastic(alpha={alpha})'\n",
    "    comp_df[col_name] = np.append(model_ElasticNet.coef_, r2)\n",
    "comp_df"
   ]
  },
  {
   "cell_type": "markdown",
   "metadata": {},
   "source": [
    "### LassoCV() : k-폴드 교차 검증으로 최적의 Lasso 모델 하이퍼파라미터 alpha 찾기"
   ]
  },
  {
   "cell_type": "code",
   "execution_count": 72,
   "metadata": {},
   "outputs": [],
   "source": [
    "#LassoCV()에 필요한 매개변수 설정\n",
    "#0.01 ~ 9.91 까지 alpha_list  생성\n",
    "cv = 5\n",
    "alpha_list = np.arange(0.01, 10, 0.01)\n",
    "max_iter = 1000\n"
   ]
  },
  {
   "cell_type": "code",
   "execution_count": 74,
   "metadata": {},
   "outputs": [
    {
     "data": {
      "text/html": [
       "<style>#sk-container-id-5 {color: black;background-color: white;}#sk-container-id-5 pre{padding: 0;}#sk-container-id-5 div.sk-toggleable {background-color: white;}#sk-container-id-5 label.sk-toggleable__label {cursor: pointer;display: block;width: 100%;margin-bottom: 0;padding: 0.3em;box-sizing: border-box;text-align: center;}#sk-container-id-5 label.sk-toggleable__label-arrow:before {content: \"▸\";float: left;margin-right: 0.25em;color: #696969;}#sk-container-id-5 label.sk-toggleable__label-arrow:hover:before {color: black;}#sk-container-id-5 div.sk-estimator:hover label.sk-toggleable__label-arrow:before {color: black;}#sk-container-id-5 div.sk-toggleable__content {max-height: 0;max-width: 0;overflow: hidden;text-align: left;background-color: #f0f8ff;}#sk-container-id-5 div.sk-toggleable__content pre {margin: 0.2em;color: black;border-radius: 0.25em;background-color: #f0f8ff;}#sk-container-id-5 input.sk-toggleable__control:checked~div.sk-toggleable__content {max-height: 200px;max-width: 100%;overflow: auto;}#sk-container-id-5 input.sk-toggleable__control:checked~label.sk-toggleable__label-arrow:before {content: \"▾\";}#sk-container-id-5 div.sk-estimator input.sk-toggleable__control:checked~label.sk-toggleable__label {background-color: #d4ebff;}#sk-container-id-5 div.sk-label input.sk-toggleable__control:checked~label.sk-toggleable__label {background-color: #d4ebff;}#sk-container-id-5 input.sk-hidden--visually {border: 0;clip: rect(1px 1px 1px 1px);clip: rect(1px, 1px, 1px, 1px);height: 1px;margin: -1px;overflow: hidden;padding: 0;position: absolute;width: 1px;}#sk-container-id-5 div.sk-estimator {font-family: monospace;background-color: #f0f8ff;border: 1px dotted black;border-radius: 0.25em;box-sizing: border-box;margin-bottom: 0.5em;}#sk-container-id-5 div.sk-estimator:hover {background-color: #d4ebff;}#sk-container-id-5 div.sk-parallel-item::after {content: \"\";width: 100%;border-bottom: 1px solid gray;flex-grow: 1;}#sk-container-id-5 div.sk-label:hover label.sk-toggleable__label {background-color: #d4ebff;}#sk-container-id-5 div.sk-serial::before {content: \"\";position: absolute;border-left: 1px solid gray;box-sizing: border-box;top: 0;bottom: 0;left: 50%;z-index: 0;}#sk-container-id-5 div.sk-serial {display: flex;flex-direction: column;align-items: center;background-color: white;padding-right: 0.2em;padding-left: 0.2em;position: relative;}#sk-container-id-5 div.sk-item {position: relative;z-index: 1;}#sk-container-id-5 div.sk-parallel {display: flex;align-items: stretch;justify-content: center;background-color: white;position: relative;}#sk-container-id-5 div.sk-item::before, #sk-container-id-5 div.sk-parallel-item::before {content: \"\";position: absolute;border-left: 1px solid gray;box-sizing: border-box;top: 0;bottom: 0;left: 50%;z-index: -1;}#sk-container-id-5 div.sk-parallel-item {display: flex;flex-direction: column;z-index: 1;position: relative;background-color: white;}#sk-container-id-5 div.sk-parallel-item:first-child::after {align-self: flex-end;width: 50%;}#sk-container-id-5 div.sk-parallel-item:last-child::after {align-self: flex-start;width: 50%;}#sk-container-id-5 div.sk-parallel-item:only-child::after {width: 0;}#sk-container-id-5 div.sk-dashed-wrapped {border: 1px dashed gray;margin: 0 0.4em 0.5em 0.4em;box-sizing: border-box;padding-bottom: 0.4em;background-color: white;}#sk-container-id-5 div.sk-label label {font-family: monospace;font-weight: bold;display: inline-block;line-height: 1.2em;}#sk-container-id-5 div.sk-label-container {text-align: center;}#sk-container-id-5 div.sk-container {/* jupyter's `normalize.less` sets `[hidden] { display: none; }` but bootstrap.min.css set `[hidden] { display: none !important; }` so we also need the `!important` here to be able to override the default hidden behavior on the sphinx rendered scikit-learn.org. See: https://github.com/scikit-learn/scikit-learn/issues/21755 */display: inline-block !important;position: relative;}#sk-container-id-5 div.sk-text-repr-fallback {display: none;}</style><div id=\"sk-container-id-5\" class=\"sk-top-container\"><div class=\"sk-text-repr-fallback\"><pre>LassoCV(alphas=array([0.01, 0.02, 0.03, 0.04, 0.05, 0.06, 0.07, 0.08, 0.09, 0.1 , 0.11,\n",
       "       0.12, 0.13, 0.14, 0.15, 0.16, 0.17, 0.18, 0.19, 0.2 , 0.21, 0.22,\n",
       "       0.23, 0.24, 0.25, 0.26, 0.27, 0.28, 0.29, 0.3 , 0.31, 0.32, 0.33,\n",
       "       0.34, 0.35, 0.36, 0.37, 0.38, 0.39, 0.4 , 0.41, 0.42, 0.43, 0.44,\n",
       "       0.45, 0.46, 0.47, 0.48, 0.49, 0.5 , 0.51, 0.52, 0.53, 0.54, 0.55,\n",
       "       0.56, 0.57, 0.58, 0.59, 0.6 , 0.61, 0.62, 0.63, 0.64, 0.65, 0.66,\n",
       "       0.67...\n",
       "       9.25, 9.26, 9.27, 9.28, 9.29, 9.3 , 9.31, 9.32, 9.33, 9.34, 9.35,\n",
       "       9.36, 9.37, 9.38, 9.39, 9.4 , 9.41, 9.42, 9.43, 9.44, 9.45, 9.46,\n",
       "       9.47, 9.48, 9.49, 9.5 , 9.51, 9.52, 9.53, 9.54, 9.55, 9.56, 9.57,\n",
       "       9.58, 9.59, 9.6 , 9.61, 9.62, 9.63, 9.64, 9.65, 9.66, 9.67, 9.68,\n",
       "       9.69, 9.7 , 9.71, 9.72, 9.73, 9.74, 9.75, 9.76, 9.77, 9.78, 9.79,\n",
       "       9.8 , 9.81, 9.82, 9.83, 9.84, 9.85, 9.86, 9.87, 9.88, 9.89, 9.9 ,\n",
       "       9.91, 9.92, 9.93, 9.94, 9.95, 9.96, 9.97, 9.98, 9.99]),\n",
       "        cv=5, n_jobs=-1, random_state=42)</pre><b>In a Jupyter environment, please rerun this cell to show the HTML representation or trust the notebook. <br />On GitHub, the HTML representation is unable to render, please try loading this page with nbviewer.org.</b></div><div class=\"sk-container\" hidden><div class=\"sk-item\"><div class=\"sk-estimator sk-toggleable\"><input class=\"sk-toggleable__control sk-hidden--visually\" id=\"sk-estimator-id-5\" type=\"checkbox\" checked><label for=\"sk-estimator-id-5\" class=\"sk-toggleable__label sk-toggleable__label-arrow\">LassoCV</label><div class=\"sk-toggleable__content\"><pre>LassoCV(alphas=array([0.01, 0.02, 0.03, 0.04, 0.05, 0.06, 0.07, 0.08, 0.09, 0.1 , 0.11,\n",
       "       0.12, 0.13, 0.14, 0.15, 0.16, 0.17, 0.18, 0.19, 0.2 , 0.21, 0.22,\n",
       "       0.23, 0.24, 0.25, 0.26, 0.27, 0.28, 0.29, 0.3 , 0.31, 0.32, 0.33,\n",
       "       0.34, 0.35, 0.36, 0.37, 0.38, 0.39, 0.4 , 0.41, 0.42, 0.43, 0.44,\n",
       "       0.45, 0.46, 0.47, 0.48, 0.49, 0.5 , 0.51, 0.52, 0.53, 0.54, 0.55,\n",
       "       0.56, 0.57, 0.58, 0.59, 0.6 , 0.61, 0.62, 0.63, 0.64, 0.65, 0.66,\n",
       "       0.67...\n",
       "       9.25, 9.26, 9.27, 9.28, 9.29, 9.3 , 9.31, 9.32, 9.33, 9.34, 9.35,\n",
       "       9.36, 9.37, 9.38, 9.39, 9.4 , 9.41, 9.42, 9.43, 9.44, 9.45, 9.46,\n",
       "       9.47, 9.48, 9.49, 9.5 , 9.51, 9.52, 9.53, 9.54, 9.55, 9.56, 9.57,\n",
       "       9.58, 9.59, 9.6 , 9.61, 9.62, 9.63, 9.64, 9.65, 9.66, 9.67, 9.68,\n",
       "       9.69, 9.7 , 9.71, 9.72, 9.73, 9.74, 9.75, 9.76, 9.77, 9.78, 9.79,\n",
       "       9.8 , 9.81, 9.82, 9.83, 9.84, 9.85, 9.86, 9.87, 9.88, 9.89, 9.9 ,\n",
       "       9.91, 9.92, 9.93, 9.94, 9.95, 9.96, 9.97, 9.98, 9.99]),\n",
       "        cv=5, n_jobs=-1, random_state=42)</pre></div></div></div></div></div>"
      ],
      "text/plain": [
       "LassoCV(alphas=array([0.01, 0.02, 0.03, 0.04, 0.05, 0.06, 0.07, 0.08, 0.09, 0.1 , 0.11,\n",
       "       0.12, 0.13, 0.14, 0.15, 0.16, 0.17, 0.18, 0.19, 0.2 , 0.21, 0.22,\n",
       "       0.23, 0.24, 0.25, 0.26, 0.27, 0.28, 0.29, 0.3 , 0.31, 0.32, 0.33,\n",
       "       0.34, 0.35, 0.36, 0.37, 0.38, 0.39, 0.4 , 0.41, 0.42, 0.43, 0.44,\n",
       "       0.45, 0.46, 0.47, 0.48, 0.49, 0.5 , 0.51, 0.52, 0.53, 0.54, 0.55,\n",
       "       0.56, 0.57, 0.58, 0.59, 0.6 , 0.61, 0.62, 0.63, 0.64, 0.65, 0.66,\n",
       "       0.67...\n",
       "       9.25, 9.26, 9.27, 9.28, 9.29, 9.3 , 9.31, 9.32, 9.33, 9.34, 9.35,\n",
       "       9.36, 9.37, 9.38, 9.39, 9.4 , 9.41, 9.42, 9.43, 9.44, 9.45, 9.46,\n",
       "       9.47, 9.48, 9.49, 9.5 , 9.51, 9.52, 9.53, 9.54, 9.55, 9.56, 9.57,\n",
       "       9.58, 9.59, 9.6 , 9.61, 9.62, 9.63, 9.64, 9.65, 9.66, 9.67, 9.68,\n",
       "       9.69, 9.7 , 9.71, 9.72, 9.73, 9.74, 9.75, 9.76, 9.77, 9.78, 9.79,\n",
       "       9.8 , 9.81, 9.82, 9.83, 9.84, 9.85, 9.86, 9.87, 9.88, 9.89, 9.9 ,\n",
       "       9.91, 9.92, 9.93, 9.94, 9.95, 9.96, 9.97, 9.98, 9.99]),\n",
       "        cv=5, n_jobs=-1, random_state=42)"
      ]
     },
     "execution_count": 74,
     "metadata": {},
     "output_type": "execute_result"
    }
   ],
   "source": [
    "model_Lasso_cv = LassoCV(alphas = alpha_list, cv=5, max_iter=max_iter, n_jobs= -1, random_state=42)\n",
    "model_Lasso_cv"
   ]
  },
  {
   "cell_type": "markdown",
   "metadata": {},
   "source": [
    "- 모델 학습"
   ]
  },
  {
   "cell_type": "code",
   "execution_count": 75,
   "metadata": {},
   "outputs": [
    {
     "data": {
      "text/html": [
       "<style>#sk-container-id-6 {color: black;background-color: white;}#sk-container-id-6 pre{padding: 0;}#sk-container-id-6 div.sk-toggleable {background-color: white;}#sk-container-id-6 label.sk-toggleable__label {cursor: pointer;display: block;width: 100%;margin-bottom: 0;padding: 0.3em;box-sizing: border-box;text-align: center;}#sk-container-id-6 label.sk-toggleable__label-arrow:before {content: \"▸\";float: left;margin-right: 0.25em;color: #696969;}#sk-container-id-6 label.sk-toggleable__label-arrow:hover:before {color: black;}#sk-container-id-6 div.sk-estimator:hover label.sk-toggleable__label-arrow:before {color: black;}#sk-container-id-6 div.sk-toggleable__content {max-height: 0;max-width: 0;overflow: hidden;text-align: left;background-color: #f0f8ff;}#sk-container-id-6 div.sk-toggleable__content pre {margin: 0.2em;color: black;border-radius: 0.25em;background-color: #f0f8ff;}#sk-container-id-6 input.sk-toggleable__control:checked~div.sk-toggleable__content {max-height: 200px;max-width: 100%;overflow: auto;}#sk-container-id-6 input.sk-toggleable__control:checked~label.sk-toggleable__label-arrow:before {content: \"▾\";}#sk-container-id-6 div.sk-estimator input.sk-toggleable__control:checked~label.sk-toggleable__label {background-color: #d4ebff;}#sk-container-id-6 div.sk-label input.sk-toggleable__control:checked~label.sk-toggleable__label {background-color: #d4ebff;}#sk-container-id-6 input.sk-hidden--visually {border: 0;clip: rect(1px 1px 1px 1px);clip: rect(1px, 1px, 1px, 1px);height: 1px;margin: -1px;overflow: hidden;padding: 0;position: absolute;width: 1px;}#sk-container-id-6 div.sk-estimator {font-family: monospace;background-color: #f0f8ff;border: 1px dotted black;border-radius: 0.25em;box-sizing: border-box;margin-bottom: 0.5em;}#sk-container-id-6 div.sk-estimator:hover {background-color: #d4ebff;}#sk-container-id-6 div.sk-parallel-item::after {content: \"\";width: 100%;border-bottom: 1px solid gray;flex-grow: 1;}#sk-container-id-6 div.sk-label:hover label.sk-toggleable__label {background-color: #d4ebff;}#sk-container-id-6 div.sk-serial::before {content: \"\";position: absolute;border-left: 1px solid gray;box-sizing: border-box;top: 0;bottom: 0;left: 50%;z-index: 0;}#sk-container-id-6 div.sk-serial {display: flex;flex-direction: column;align-items: center;background-color: white;padding-right: 0.2em;padding-left: 0.2em;position: relative;}#sk-container-id-6 div.sk-item {position: relative;z-index: 1;}#sk-container-id-6 div.sk-parallel {display: flex;align-items: stretch;justify-content: center;background-color: white;position: relative;}#sk-container-id-6 div.sk-item::before, #sk-container-id-6 div.sk-parallel-item::before {content: \"\";position: absolute;border-left: 1px solid gray;box-sizing: border-box;top: 0;bottom: 0;left: 50%;z-index: -1;}#sk-container-id-6 div.sk-parallel-item {display: flex;flex-direction: column;z-index: 1;position: relative;background-color: white;}#sk-container-id-6 div.sk-parallel-item:first-child::after {align-self: flex-end;width: 50%;}#sk-container-id-6 div.sk-parallel-item:last-child::after {align-self: flex-start;width: 50%;}#sk-container-id-6 div.sk-parallel-item:only-child::after {width: 0;}#sk-container-id-6 div.sk-dashed-wrapped {border: 1px dashed gray;margin: 0 0.4em 0.5em 0.4em;box-sizing: border-box;padding-bottom: 0.4em;background-color: white;}#sk-container-id-6 div.sk-label label {font-family: monospace;font-weight: bold;display: inline-block;line-height: 1.2em;}#sk-container-id-6 div.sk-label-container {text-align: center;}#sk-container-id-6 div.sk-container {/* jupyter's `normalize.less` sets `[hidden] { display: none; }` but bootstrap.min.css set `[hidden] { display: none !important; }` so we also need the `!important` here to be able to override the default hidden behavior on the sphinx rendered scikit-learn.org. See: https://github.com/scikit-learn/scikit-learn/issues/21755 */display: inline-block !important;position: relative;}#sk-container-id-6 div.sk-text-repr-fallback {display: none;}</style><div id=\"sk-container-id-6\" class=\"sk-top-container\"><div class=\"sk-text-repr-fallback\"><pre>LassoCV(alphas=array([0.01, 0.02, 0.03, 0.04, 0.05, 0.06, 0.07, 0.08, 0.09, 0.1 , 0.11,\n",
       "       0.12, 0.13, 0.14, 0.15, 0.16, 0.17, 0.18, 0.19, 0.2 , 0.21, 0.22,\n",
       "       0.23, 0.24, 0.25, 0.26, 0.27, 0.28, 0.29, 0.3 , 0.31, 0.32, 0.33,\n",
       "       0.34, 0.35, 0.36, 0.37, 0.38, 0.39, 0.4 , 0.41, 0.42, 0.43, 0.44,\n",
       "       0.45, 0.46, 0.47, 0.48, 0.49, 0.5 , 0.51, 0.52, 0.53, 0.54, 0.55,\n",
       "       0.56, 0.57, 0.58, 0.59, 0.6 , 0.61, 0.62, 0.63, 0.64, 0.65, 0.66,\n",
       "       0.67...\n",
       "       9.25, 9.26, 9.27, 9.28, 9.29, 9.3 , 9.31, 9.32, 9.33, 9.34, 9.35,\n",
       "       9.36, 9.37, 9.38, 9.39, 9.4 , 9.41, 9.42, 9.43, 9.44, 9.45, 9.46,\n",
       "       9.47, 9.48, 9.49, 9.5 , 9.51, 9.52, 9.53, 9.54, 9.55, 9.56, 9.57,\n",
       "       9.58, 9.59, 9.6 , 9.61, 9.62, 9.63, 9.64, 9.65, 9.66, 9.67, 9.68,\n",
       "       9.69, 9.7 , 9.71, 9.72, 9.73, 9.74, 9.75, 9.76, 9.77, 9.78, 9.79,\n",
       "       9.8 , 9.81, 9.82, 9.83, 9.84, 9.85, 9.86, 9.87, 9.88, 9.89, 9.9 ,\n",
       "       9.91, 9.92, 9.93, 9.94, 9.95, 9.96, 9.97, 9.98, 9.99]),\n",
       "        cv=5, n_jobs=-1, random_state=42)</pre><b>In a Jupyter environment, please rerun this cell to show the HTML representation or trust the notebook. <br />On GitHub, the HTML representation is unable to render, please try loading this page with nbviewer.org.</b></div><div class=\"sk-container\" hidden><div class=\"sk-item\"><div class=\"sk-estimator sk-toggleable\"><input class=\"sk-toggleable__control sk-hidden--visually\" id=\"sk-estimator-id-6\" type=\"checkbox\" checked><label for=\"sk-estimator-id-6\" class=\"sk-toggleable__label sk-toggleable__label-arrow\">LassoCV</label><div class=\"sk-toggleable__content\"><pre>LassoCV(alphas=array([0.01, 0.02, 0.03, 0.04, 0.05, 0.06, 0.07, 0.08, 0.09, 0.1 , 0.11,\n",
       "       0.12, 0.13, 0.14, 0.15, 0.16, 0.17, 0.18, 0.19, 0.2 , 0.21, 0.22,\n",
       "       0.23, 0.24, 0.25, 0.26, 0.27, 0.28, 0.29, 0.3 , 0.31, 0.32, 0.33,\n",
       "       0.34, 0.35, 0.36, 0.37, 0.38, 0.39, 0.4 , 0.41, 0.42, 0.43, 0.44,\n",
       "       0.45, 0.46, 0.47, 0.48, 0.49, 0.5 , 0.51, 0.52, 0.53, 0.54, 0.55,\n",
       "       0.56, 0.57, 0.58, 0.59, 0.6 , 0.61, 0.62, 0.63, 0.64, 0.65, 0.66,\n",
       "       0.67...\n",
       "       9.25, 9.26, 9.27, 9.28, 9.29, 9.3 , 9.31, 9.32, 9.33, 9.34, 9.35,\n",
       "       9.36, 9.37, 9.38, 9.39, 9.4 , 9.41, 9.42, 9.43, 9.44, 9.45, 9.46,\n",
       "       9.47, 9.48, 9.49, 9.5 , 9.51, 9.52, 9.53, 9.54, 9.55, 9.56, 9.57,\n",
       "       9.58, 9.59, 9.6 , 9.61, 9.62, 9.63, 9.64, 9.65, 9.66, 9.67, 9.68,\n",
       "       9.69, 9.7 , 9.71, 9.72, 9.73, 9.74, 9.75, 9.76, 9.77, 9.78, 9.79,\n",
       "       9.8 , 9.81, 9.82, 9.83, 9.84, 9.85, 9.86, 9.87, 9.88, 9.89, 9.9 ,\n",
       "       9.91, 9.92, 9.93, 9.94, 9.95, 9.96, 9.97, 9.98, 9.99]),\n",
       "        cv=5, n_jobs=-1, random_state=42)</pre></div></div></div></div></div>"
      ],
      "text/plain": [
       "LassoCV(alphas=array([0.01, 0.02, 0.03, 0.04, 0.05, 0.06, 0.07, 0.08, 0.09, 0.1 , 0.11,\n",
       "       0.12, 0.13, 0.14, 0.15, 0.16, 0.17, 0.18, 0.19, 0.2 , 0.21, 0.22,\n",
       "       0.23, 0.24, 0.25, 0.26, 0.27, 0.28, 0.29, 0.3 , 0.31, 0.32, 0.33,\n",
       "       0.34, 0.35, 0.36, 0.37, 0.38, 0.39, 0.4 , 0.41, 0.42, 0.43, 0.44,\n",
       "       0.45, 0.46, 0.47, 0.48, 0.49, 0.5 , 0.51, 0.52, 0.53, 0.54, 0.55,\n",
       "       0.56, 0.57, 0.58, 0.59, 0.6 , 0.61, 0.62, 0.63, 0.64, 0.65, 0.66,\n",
       "       0.67...\n",
       "       9.25, 9.26, 9.27, 9.28, 9.29, 9.3 , 9.31, 9.32, 9.33, 9.34, 9.35,\n",
       "       9.36, 9.37, 9.38, 9.39, 9.4 , 9.41, 9.42, 9.43, 9.44, 9.45, 9.46,\n",
       "       9.47, 9.48, 9.49, 9.5 , 9.51, 9.52, 9.53, 9.54, 9.55, 9.56, 9.57,\n",
       "       9.58, 9.59, 9.6 , 9.61, 9.62, 9.63, 9.64, 9.65, 9.66, 9.67, 9.68,\n",
       "       9.69, 9.7 , 9.71, 9.72, 9.73, 9.74, 9.75, 9.76, 9.77, 9.78, 9.79,\n",
       "       9.8 , 9.81, 9.82, 9.83, 9.84, 9.85, 9.86, 9.87, 9.88, 9.89, 9.9 ,\n",
       "       9.91, 9.92, 9.93, 9.94, 9.95, 9.96, 9.97, 9.98, 9.99]),\n",
       "        cv=5, n_jobs=-1, random_state=42)"
      ]
     },
     "execution_count": 75,
     "metadata": {},
     "output_type": "execute_result"
    }
   ],
   "source": [
    "model_Lasso_cv.fit(X_train, y_train)"
   ]
  },
  {
   "cell_type": "code",
   "execution_count": 76,
   "metadata": {},
   "outputs": [
    {
     "data": {
      "text/plain": [
       "0.01"
      ]
     },
     "execution_count": 76,
     "metadata": {},
     "output_type": "execute_result"
    }
   ],
   "source": [
    "model_Lasso_cv.alpha_ #0.01일때 제일 좋은 모델이었음!"
   ]
  },
  {
   "cell_type": "code",
   "execution_count": 80,
   "metadata": {},
   "outputs": [
    {
     "data": {
      "text/plain": [
       "0.47871428812904404"
      ]
     },
     "execution_count": 80,
     "metadata": {},
     "output_type": "execute_result"
    }
   ],
   "source": [
    "'''\n",
    "이렇게 해도 되긴 합니다!\n",
    "best_model = Lasso(alpha=0.01)\n",
    "best_model.fit(X_train, y_train)\n",
    "y_pred = best_model.predict(X_test)\n",
    "하지만 이미 제일 좋은 상태로 돌려놔서 바로 예측을 하면 됩니다!\n",
    "'''\n",
    "y_pred = model_Lasso_cv.predict(X_test)\n",
    "r2 = r2_score(y_test, y_pred)\n",
    "r2"
   ]
  },
  {
   "attachments": {},
   "cell_type": "markdown",
   "metadata": {},
   "source": [
    "## GridSearchCV"
   ]
  },
  {
   "cell_type": "code",
   "execution_count": 81,
   "metadata": {},
   "outputs": [],
   "source": [
    "from sklearn.model_selection import GridSearchCV\n",
    "model = ElasticNet()\n",
    "param_grid = {'alpha':[0.001, 0.01, 0.1, 1, 10],\n",
    "              'l1_ratio':[0.1, 0.3, 0.6, 0.9]} \n",
    "GSC=GridSearchCV(model,param_grid=param_grid, cv=3)"
   ]
  },
  {
   "cell_type": "code",
   "execution_count": 82,
   "metadata": {},
   "outputs": [
    {
     "data": {
      "text/html": [
       "<style>#sk-container-id-7 {color: black;background-color: white;}#sk-container-id-7 pre{padding: 0;}#sk-container-id-7 div.sk-toggleable {background-color: white;}#sk-container-id-7 label.sk-toggleable__label {cursor: pointer;display: block;width: 100%;margin-bottom: 0;padding: 0.3em;box-sizing: border-box;text-align: center;}#sk-container-id-7 label.sk-toggleable__label-arrow:before {content: \"▸\";float: left;margin-right: 0.25em;color: #696969;}#sk-container-id-7 label.sk-toggleable__label-arrow:hover:before {color: black;}#sk-container-id-7 div.sk-estimator:hover label.sk-toggleable__label-arrow:before {color: black;}#sk-container-id-7 div.sk-toggleable__content {max-height: 0;max-width: 0;overflow: hidden;text-align: left;background-color: #f0f8ff;}#sk-container-id-7 div.sk-toggleable__content pre {margin: 0.2em;color: black;border-radius: 0.25em;background-color: #f0f8ff;}#sk-container-id-7 input.sk-toggleable__control:checked~div.sk-toggleable__content {max-height: 200px;max-width: 100%;overflow: auto;}#sk-container-id-7 input.sk-toggleable__control:checked~label.sk-toggleable__label-arrow:before {content: \"▾\";}#sk-container-id-7 div.sk-estimator input.sk-toggleable__control:checked~label.sk-toggleable__label {background-color: #d4ebff;}#sk-container-id-7 div.sk-label input.sk-toggleable__control:checked~label.sk-toggleable__label {background-color: #d4ebff;}#sk-container-id-7 input.sk-hidden--visually {border: 0;clip: rect(1px 1px 1px 1px);clip: rect(1px, 1px, 1px, 1px);height: 1px;margin: -1px;overflow: hidden;padding: 0;position: absolute;width: 1px;}#sk-container-id-7 div.sk-estimator {font-family: monospace;background-color: #f0f8ff;border: 1px dotted black;border-radius: 0.25em;box-sizing: border-box;margin-bottom: 0.5em;}#sk-container-id-7 div.sk-estimator:hover {background-color: #d4ebff;}#sk-container-id-7 div.sk-parallel-item::after {content: \"\";width: 100%;border-bottom: 1px solid gray;flex-grow: 1;}#sk-container-id-7 div.sk-label:hover label.sk-toggleable__label {background-color: #d4ebff;}#sk-container-id-7 div.sk-serial::before {content: \"\";position: absolute;border-left: 1px solid gray;box-sizing: border-box;top: 0;bottom: 0;left: 50%;z-index: 0;}#sk-container-id-7 div.sk-serial {display: flex;flex-direction: column;align-items: center;background-color: white;padding-right: 0.2em;padding-left: 0.2em;position: relative;}#sk-container-id-7 div.sk-item {position: relative;z-index: 1;}#sk-container-id-7 div.sk-parallel {display: flex;align-items: stretch;justify-content: center;background-color: white;position: relative;}#sk-container-id-7 div.sk-item::before, #sk-container-id-7 div.sk-parallel-item::before {content: \"\";position: absolute;border-left: 1px solid gray;box-sizing: border-box;top: 0;bottom: 0;left: 50%;z-index: -1;}#sk-container-id-7 div.sk-parallel-item {display: flex;flex-direction: column;z-index: 1;position: relative;background-color: white;}#sk-container-id-7 div.sk-parallel-item:first-child::after {align-self: flex-end;width: 50%;}#sk-container-id-7 div.sk-parallel-item:last-child::after {align-self: flex-start;width: 50%;}#sk-container-id-7 div.sk-parallel-item:only-child::after {width: 0;}#sk-container-id-7 div.sk-dashed-wrapped {border: 1px dashed gray;margin: 0 0.4em 0.5em 0.4em;box-sizing: border-box;padding-bottom: 0.4em;background-color: white;}#sk-container-id-7 div.sk-label label {font-family: monospace;font-weight: bold;display: inline-block;line-height: 1.2em;}#sk-container-id-7 div.sk-label-container {text-align: center;}#sk-container-id-7 div.sk-container {/* jupyter's `normalize.less` sets `[hidden] { display: none; }` but bootstrap.min.css set `[hidden] { display: none !important; }` so we also need the `!important` here to be able to override the default hidden behavior on the sphinx rendered scikit-learn.org. See: https://github.com/scikit-learn/scikit-learn/issues/21755 */display: inline-block !important;position: relative;}#sk-container-id-7 div.sk-text-repr-fallback {display: none;}</style><div id=\"sk-container-id-7\" class=\"sk-top-container\"><div class=\"sk-text-repr-fallback\"><pre>GridSearchCV(cv=3, estimator=ElasticNet(),\n",
       "             param_grid={&#x27;alpha&#x27;: [0.001, 0.01, 0.1, 1, 10],\n",
       "                         &#x27;l1_ratio&#x27;: [0.1, 0.3, 0.6, 0.9]})</pre><b>In a Jupyter environment, please rerun this cell to show the HTML representation or trust the notebook. <br />On GitHub, the HTML representation is unable to render, please try loading this page with nbviewer.org.</b></div><div class=\"sk-container\" hidden><div class=\"sk-item sk-dashed-wrapped\"><div class=\"sk-label-container\"><div class=\"sk-label sk-toggleable\"><input class=\"sk-toggleable__control sk-hidden--visually\" id=\"sk-estimator-id-7\" type=\"checkbox\" ><label for=\"sk-estimator-id-7\" class=\"sk-toggleable__label sk-toggleable__label-arrow\">GridSearchCV</label><div class=\"sk-toggleable__content\"><pre>GridSearchCV(cv=3, estimator=ElasticNet(),\n",
       "             param_grid={&#x27;alpha&#x27;: [0.001, 0.01, 0.1, 1, 10],\n",
       "                         &#x27;l1_ratio&#x27;: [0.1, 0.3, 0.6, 0.9]})</pre></div></div></div><div class=\"sk-parallel\"><div class=\"sk-parallel-item\"><div class=\"sk-item\"><div class=\"sk-label-container\"><div class=\"sk-label sk-toggleable\"><input class=\"sk-toggleable__control sk-hidden--visually\" id=\"sk-estimator-id-8\" type=\"checkbox\" ><label for=\"sk-estimator-id-8\" class=\"sk-toggleable__label sk-toggleable__label-arrow\">estimator: ElasticNet</label><div class=\"sk-toggleable__content\"><pre>ElasticNet()</pre></div></div></div><div class=\"sk-serial\"><div class=\"sk-item\"><div class=\"sk-estimator sk-toggleable\"><input class=\"sk-toggleable__control sk-hidden--visually\" id=\"sk-estimator-id-9\" type=\"checkbox\" ><label for=\"sk-estimator-id-9\" class=\"sk-toggleable__label sk-toggleable__label-arrow\">ElasticNet</label><div class=\"sk-toggleable__content\"><pre>ElasticNet()</pre></div></div></div></div></div></div></div></div></div></div>"
      ],
      "text/plain": [
       "GridSearchCV(cv=3, estimator=ElasticNet(),\n",
       "             param_grid={'alpha': [0.001, 0.01, 0.1, 1, 10],\n",
       "                         'l1_ratio': [0.1, 0.3, 0.6, 0.9]})"
      ]
     },
     "execution_count": 82,
     "metadata": {},
     "output_type": "execute_result"
    }
   ],
   "source": [
    "GSC.fit(X_train,y_train) # 이게 베스트 모델이 됨."
   ]
  },
  {
   "cell_type": "code",
   "execution_count": 83,
   "metadata": {},
   "outputs": [
    {
     "data": {
      "text/plain": [
       "0.48041149400087013"
      ]
     },
     "execution_count": 83,
     "metadata": {},
     "output_type": "execute_result"
    }
   ],
   "source": [
    "y_pred = GSC.predict(X_test)\n",
    "r2 = r2_score(y_test, y_pred)\n",
    "r2"
   ]
  },
  {
   "cell_type": "code",
   "execution_count": 84,
   "metadata": {},
   "outputs": [
    {
     "data": {
      "text/plain": [
       "{'alpha': 0.001, 'l1_ratio': 0.6}"
      ]
     },
     "execution_count": 84,
     "metadata": {},
     "output_type": "execute_result"
    }
   ],
   "source": [
    "GSC.best_params_ # 제일 좋은 엘라스틱함수"
   ]
  },
  {
   "cell_type": "code",
   "execution_count": 92,
   "metadata": {},
   "outputs": [
    {
     "name": "stdout",
     "output_type": "stream",
     "text": [
      "<class 'pandas.core.frame.DataFrame'>\n",
      "RangeIndex: 20 entries, 0 to 19\n",
      "Data columns (total 13 columns):\n",
      " #   Column             Non-Null Count  Dtype  \n",
      "---  ------             --------------  -----  \n",
      " 0   mean_fit_time      20 non-null     float64\n",
      " 1   std_fit_time       20 non-null     float64\n",
      " 2   mean_score_time    20 non-null     float64\n",
      " 3   std_score_time     20 non-null     float64\n",
      " 4   param_alpha        20 non-null     object \n",
      " 5   param_l1_ratio     20 non-null     object \n",
      " 6   params             20 non-null     object \n",
      " 7   split0_test_score  20 non-null     float64\n",
      " 8   split1_test_score  20 non-null     float64\n",
      " 9   split2_test_score  20 non-null     float64\n",
      " 10  mean_test_score    20 non-null     float64\n",
      " 11  std_test_score     20 non-null     float64\n",
      " 12  rank_test_score    20 non-null     int32  \n",
      "dtypes: float64(9), int32(1), object(3)\n",
      "memory usage: 2.1+ KB\n"
     ]
    }
   ],
   "source": [
    "pd.DataFrame(GSC.cv_results_).info() # split 라운드!!"
   ]
  },
  {
   "cell_type": "code",
   "execution_count": 94,
   "metadata": {},
   "outputs": [
    {
     "data": {
      "text/plain": [
       "0      4\n",
       "1      3\n",
       "2      1\n",
       "3      2\n",
       "4      8\n",
       "5      7\n",
       "6      6\n",
       "7      5\n",
       "8     12\n",
       "9     11\n",
       "10    10\n",
       "11     9\n",
       "12    16\n",
       "13    15\n",
       "14    14\n",
       "15    13\n",
       "16    17\n",
       "17    18\n",
       "18    18\n",
       "19    18\n",
       "Name: rank_test_score, dtype: int32"
      ]
     },
     "execution_count": 94,
     "metadata": {},
     "output_type": "execute_result"
    }
   ],
   "source": [
    "pd.DataFrame(GSC.cv_results_).rank_test_score #등수를 볼 수 있음"
   ]
  },
  {
   "cell_type": "markdown",
   "metadata": {},
   "source": [
    "## [응용] 보스턴 주택가격 데이터를 활용하여, 규제가 없을때, 리지, 라쏘, 엘라스틱넷 선형회귀를 수행하고 각각의 회귀계수 및 예측 성능을 비교하라\n",
    "테스트 사이즈:0.3\n",
    "random_state=42\n"
   ]
  },
  {
   "cell_type": "code",
   "execution_count": null,
   "metadata": {},
   "outputs": [],
   "source": []
  }
 ],
 "metadata": {
  "kernelspec": {
   "display_name": "Python 3",
   "language": "python",
   "name": "python3"
  },
  "language_info": {
   "codemirror_mode": {
    "name": "ipython",
    "version": 3
   },
   "file_extension": ".py",
   "mimetype": "text/x-python",
   "name": "python",
   "nbconvert_exporter": "python",
   "pygments_lexer": "ipython3",
   "version": "3.9.13"
  },
  "vscode": {
   "interpreter": {
    "hash": "3455c0890e7e2df1160e147aa3688f011a10f333e376754a307a9e8e4176ea7d"
   }
  }
 },
 "nbformat": 4,
 "nbformat_minor": 4
}
