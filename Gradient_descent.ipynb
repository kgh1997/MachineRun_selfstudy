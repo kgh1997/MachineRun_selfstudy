{
 "cells": [
  {
   "cell_type": "markdown",
   "metadata": {},
   "source": [
    "# 선형 회귀식의 계수를 찾는 법 - OLS VS. SGD\n",
    "- 보스턴 집값 데이터 활용(RM VS Price)"
   ]
  },
  {
   "cell_type": "markdown",
   "metadata": {},
   "source": [
    "### 필요한 모듈 import"
   ]
  },
  {
   "cell_type": "code",
   "execution_count": 1,
   "metadata": {},
   "outputs": [],
   "source": [
    "import pandas as pd\n",
    "import matplotlib.pyplot as plt\n",
    "import numpy as np\n",
    "\n",
    "# 필요한 라이브러리 import \n"
   ]
  },
  {
   "cell_type": "code",
   "execution_count": 2,
   "metadata": {},
   "outputs": [
    {
     "name": "stderr",
     "output_type": "stream",
     "text": [
      "c:\\Users\\gihun\\Python_Data\\lib\\site-packages\\sklearn\\datasets\\_openml.py:292: UserWarning: Multiple active versions of the dataset matching the name boston exist. Versions may be fundamentally different, returning version 1.\n",
      "  warn(\n",
      "c:\\Users\\gihun\\Python_Data\\lib\\site-packages\\sklearn\\datasets\\_openml.py:932: FutureWarning: The default value of `parser` will change from `'liac-arff'` to `'auto'` in 1.4. You can set `parser='auto'` to silence this warning. Therefore, an `ImportError` will be raised from 1.4 if the dataset is dense and pandas is not installed. Note that the pandas parser may return different data types. See the Notes Section in fetch_openml's API doc for details.\n",
      "  warn(\n"
     ]
    },
    {
     "data": {
      "text/plain": [
       "{'data':         CRIM    ZN  INDUS CHAS    NOX     RM   AGE     DIS RAD    TAX  \\\n",
       " 0    0.00632  18.0   2.31    0  0.538  6.575  65.2  4.0900   1  296.0   \n",
       " 1    0.02731   0.0   7.07    0  0.469  6.421  78.9  4.9671   2  242.0   \n",
       " 2    0.02729   0.0   7.07    0  0.469  7.185  61.1  4.9671   2  242.0   \n",
       " 3    0.03237   0.0   2.18    0  0.458  6.998  45.8  6.0622   3  222.0   \n",
       " 4    0.06905   0.0   2.18    0  0.458  7.147  54.2  6.0622   3  222.0   \n",
       " ..       ...   ...    ...  ...    ...    ...   ...     ...  ..    ...   \n",
       " 501  0.06263   0.0  11.93    0  0.573  6.593  69.1  2.4786   1  273.0   \n",
       " 502  0.04527   0.0  11.93    0  0.573  6.120  76.7  2.2875   1  273.0   \n",
       " 503  0.06076   0.0  11.93    0  0.573  6.976  91.0  2.1675   1  273.0   \n",
       " 504  0.10959   0.0  11.93    0  0.573  6.794  89.3  2.3889   1  273.0   \n",
       " 505  0.04741   0.0  11.93    0  0.573  6.030  80.8  2.5050   1  273.0   \n",
       " \n",
       "      PTRATIO       B  LSTAT  \n",
       " 0       15.3  396.90   4.98  \n",
       " 1       17.8  396.90   9.14  \n",
       " 2       17.8  392.83   4.03  \n",
       " 3       18.7  394.63   2.94  \n",
       " 4       18.7  396.90   5.33  \n",
       " ..       ...     ...    ...  \n",
       " 501     21.0  391.99   9.67  \n",
       " 502     21.0  396.90   9.08  \n",
       " 503     21.0  396.90   5.64  \n",
       " 504     21.0  393.45   6.48  \n",
       " 505     21.0  396.90   7.88  \n",
       " \n",
       " [506 rows x 13 columns],\n",
       " 'target': 0      24.0\n",
       " 1      21.6\n",
       " 2      34.7\n",
       " 3      33.4\n",
       " 4      36.2\n",
       "        ... \n",
       " 501    22.4\n",
       " 502    20.6\n",
       " 503    23.9\n",
       " 504    22.0\n",
       " 505    11.9\n",
       " Name: MEDV, Length: 506, dtype: float64,\n",
       " 'frame':         CRIM    ZN  INDUS CHAS    NOX     RM   AGE     DIS RAD    TAX  \\\n",
       " 0    0.00632  18.0   2.31    0  0.538  6.575  65.2  4.0900   1  296.0   \n",
       " 1    0.02731   0.0   7.07    0  0.469  6.421  78.9  4.9671   2  242.0   \n",
       " 2    0.02729   0.0   7.07    0  0.469  7.185  61.1  4.9671   2  242.0   \n",
       " 3    0.03237   0.0   2.18    0  0.458  6.998  45.8  6.0622   3  222.0   \n",
       " 4    0.06905   0.0   2.18    0  0.458  7.147  54.2  6.0622   3  222.0   \n",
       " ..       ...   ...    ...  ...    ...    ...   ...     ...  ..    ...   \n",
       " 501  0.06263   0.0  11.93    0  0.573  6.593  69.1  2.4786   1  273.0   \n",
       " 502  0.04527   0.0  11.93    0  0.573  6.120  76.7  2.2875   1  273.0   \n",
       " 503  0.06076   0.0  11.93    0  0.573  6.976  91.0  2.1675   1  273.0   \n",
       " 504  0.10959   0.0  11.93    0  0.573  6.794  89.3  2.3889   1  273.0   \n",
       " 505  0.04741   0.0  11.93    0  0.573  6.030  80.8  2.5050   1  273.0   \n",
       " \n",
       "      PTRATIO       B  LSTAT  MEDV  \n",
       " 0       15.3  396.90   4.98  24.0  \n",
       " 1       17.8  396.90   9.14  21.6  \n",
       " 2       17.8  392.83   4.03  34.7  \n",
       " 3       18.7  394.63   2.94  33.4  \n",
       " 4       18.7  396.90   5.33  36.2  \n",
       " ..       ...     ...    ...   ...  \n",
       " 501     21.0  391.99   9.67  22.4  \n",
       " 502     21.0  396.90   9.08  20.6  \n",
       " 503     21.0  396.90   5.64  23.9  \n",
       " 504     21.0  393.45   6.48  22.0  \n",
       " 505     21.0  396.90   7.88  11.9  \n",
       " \n",
       " [506 rows x 14 columns],\n",
       " 'categories': None,\n",
       " 'feature_names': ['CRIM',\n",
       "  'ZN',\n",
       "  'INDUS',\n",
       "  'CHAS',\n",
       "  'NOX',\n",
       "  'RM',\n",
       "  'AGE',\n",
       "  'DIS',\n",
       "  'RAD',\n",
       "  'TAX',\n",
       "  'PTRATIO',\n",
       "  'B',\n",
       "  'LSTAT'],\n",
       " 'target_names': ['MEDV'],\n",
       " 'DESCR': \"**Author**:   \\n**Source**: Unknown - Date unknown  \\n**Please cite**:   \\n\\nThe Boston house-price data of Harrison, D. and Rubinfeld, D.L. 'Hedonic\\nprices and the demand for clean air', J. Environ. Economics & Management,\\nvol.5, 81-102, 1978.   Used in Belsley, Kuh & Welsch, 'Regression diagnostics\\n...', Wiley, 1980.   N.B. Various transformations are used in the table on\\npages 244-261 of the latter.\\nVariables in order:\\nCRIM     per capita crime rate by town\\nZN       proportion of residential land zoned for lots over 25,000 sq.ft.\\nINDUS    proportion of non-retail business acres per town\\nCHAS     Charles River dummy variable (= 1 if tract bounds river; 0 otherwise)\\nNOX      nitric oxides concentration (parts per 10 million)\\nRM       average number of rooms per dwelling\\nAGE      proportion of owner-occupied units built prior to 1940\\nDIS      weighted distances to five Boston employment centres\\nRAD      index of accessibility to radial highways\\nTAX      full-value property-tax rate per $10,000\\nPTRATIO  pupil-teacher ratio by town\\nB        1000(Bk - 0.63)^2 where Bk is the proportion of blacks by town\\nLSTAT    % lower status of the population\\nMEDV     Median value of owner-occupied homes in $1000's\\n\\n\\nInformation about the dataset\\nCLASSTYPE: numeric\\nCLASSINDEX: last\\n\\nDownloaded from openml.org.\",\n",
       " 'details': {'id': '531',\n",
       "  'name': 'boston',\n",
       "  'version': '1',\n",
       "  'description_version': '1',\n",
       "  'format': 'ARFF',\n",
       "  'creator': ['D. and Rubinfeld', \"D.L. 'Hedonic\"],\n",
       "  'collection_date': '1978',\n",
       "  'upload_date': '2014-09-29T00:08:07',\n",
       "  'language': 'English',\n",
       "  'licence': 'Public',\n",
       "  'url': 'https://api.openml.org/data/v1/download/52643/boston.arff',\n",
       "  'parquet_url': 'http://openml1.win.tue.nl/dataset531/dataset_531.pq',\n",
       "  'file_id': '52643',\n",
       "  'default_target_attribute': 'MEDV',\n",
       "  'tag': ['OpenML-Reg19', 'study_130'],\n",
       "  'visibility': 'public',\n",
       "  'minio_url': 'http://openml1.win.tue.nl/dataset531/dataset_531.pq',\n",
       "  'status': 'active',\n",
       "  'processing_date': '2020-11-20 20:16:37',\n",
       "  'md5_checksum': 'cdd361fb886627eaa80c92f90d0610cc'},\n",
       " 'url': 'https://www.openml.org/d/531'}"
      ]
     },
     "execution_count": 2,
     "metadata": {},
     "output_type": "execute_result"
    }
   ],
   "source": [
    "from sklearn import datasets\n",
    "boston = datasets.fetch_openml('boston')\n",
    "boston"
   ]
  },
  {
   "cell_type": "code",
   "execution_count": 3,
   "metadata": {},
   "outputs": [
    {
     "name": "stdout",
     "output_type": "stream",
     "text": [
      "(354, 1) (354,)\n"
     ]
    }
   ],
   "source": [
    "X=np.array(boston.data.RM).reshape((-1,1))\n",
    "y=boston.target\n",
    "# 데이터 분할\n",
    "from sklearn.model_selection import train_test_split\n",
    "X_train , X_test, y_train, y_test = train_test_split(X,y,test_size=0.3, random_state=1)\n",
    "\n",
    "print(X_train.shape,y_train.shape)"
   ]
  },
  {
   "cell_type": "markdown",
   "metadata": {},
   "source": [
    "# 1. LinearRegression 모델을 사용한 경우"
   ]
  },
  {
   "cell_type": "code",
   "execution_count": 4,
   "metadata": {},
   "outputs": [
    {
     "name": "stdout",
     "output_type": "stream",
     "text": [
      "[8.46109164] -30.5710324108983\n",
      "mse is 36.52\n",
      "rmse is 6.04\n",
      "r2 is 0.6\n"
     ]
    }
   ],
   "source": [
    "from sklearn.linear_model import LinearRegression\n",
    "Lr = LinearRegression()\n",
    "reg = Lr.fit(X_train,y_train)\n",
    "print(reg.coef_,reg.intercept_)\n",
    "y_pred = Lr.predict(X_test)\n",
    "from get_MSE import get_score\n",
    "get_score(y_test,y_pred)"
   ]
  },
  {
   "cell_type": "markdown",
   "metadata": {},
   "source": [
    "# 2. SGDRegressor with hyperparameter"
   ]
  },
  {
   "cell_type": "code",
   "execution_count": 21,
   "metadata": {},
   "outputs": [
    {
     "name": "stdout",
     "output_type": "stream",
     "text": [
      "[4.17723973] [-3.58747787]\n"
     ]
    }
   ],
   "source": [
    "from sklearn.linear_model import SGDRegressor # 하이퍼파라미터 튜닝을 바꿔서 하면서 모델의 성능을 좋게 만들어야 함!\n",
    "reg = SGDRegressor(max_iter = 1000, eta0 = 0.01, learning_rate='invscaling', loss='squared_error',random_state=42) # default\n",
    "reg.fit(X_train,y_train)\n",
    "print(reg.coef_,reg.intercept_)"
   ]
  },
  {
   "cell_type": "code",
   "execution_count": 22,
   "metadata": {},
   "outputs": [
    {
     "name": "stdout",
     "output_type": "stream",
     "text": [
      "mse is 55.13\n",
      "rmse is 7.42\n",
      "r2 is 0.4\n"
     ]
    }
   ],
   "source": [
    "y_pred = reg.predict(X_test)\n",
    "get_score(y_test,y_pred)"
   ]
  },
  {
   "cell_type": "markdown",
   "metadata": {},
   "source": [
    "# 3. SGDRegressor with scaling"
   ]
  },
  {
   "attachments": {},
   "cell_type": "markdown",
   "metadata": {},
   "source": [
    "### 스케일링을 해서 머신러닝돌리는게 더 효과가 좋다!, 하이퍼파라미터보다"
   ]
  },
  {
   "cell_type": "code",
   "execution_count": 26,
   "metadata": {},
   "outputs": [
    {
     "name": "stdout",
     "output_type": "stream",
     "text": [
      "[5.84750366] [22.31897879]\n",
      "mse is 36.52\n",
      "rmse is 6.04\n",
      "r2 is 0.6\n"
     ]
    }
   ],
   "source": [
    "# 표준화 스케일링을 사용하여 경사하강법 모델링\n",
    "train_mean = np.mean(X_train, axis=0)\n",
    "train_std = np.std(X_train, axis=0)\n",
    "X_train_scaled = (X_train - train_mean) / train_std\n",
    "X_test_scaled = (X_test - train_mean) / train_std\n",
    "\n",
    "# 모델 객체 생성\n",
    "reg = SGDRegressor(max_iter = 1000, eta0 = 0.01, learning_rate='invscaling', loss='squared_error',random_state=42) # default\n",
    "reg.fit(X_train_scaled,y_train)\n",
    "\n",
    "# 계수확인\n",
    "print(reg.coef_,reg.intercept_)\n",
    "\n",
    "# 평가지표\n",
    "y_pred = reg.predict(X_test_scaled)\n",
    "get_score(y_test,y_pred)"
   ]
  },
  {
   "cell_type": "markdown",
   "metadata": {},
   "source": [
    "# 4. SGDRegressor with StandardScaler()"
   ]
  },
  {
   "cell_type": "code",
   "execution_count": 28,
   "metadata": {},
   "outputs": [
    {
     "data": {
      "text/plain": [
       "array([[ 8.61041758e-01],\n",
       "       [ 6.39842106e-01],\n",
       "       [-3.23026964e-01],\n",
       "       [-5.42780866e-01],\n",
       "       [-1.28878753e+00],\n",
       "       [ 1.71419315e-01],\n",
       "       [ 5.44422649e-01],\n",
       "       [-2.62305491e-01],\n",
       "       [-4.37241163e-01],\n",
       "       [ 2.36478036e-01],\n",
       "       [ 7.17912572e-01],\n",
       "       [ 8.97185491e-01],\n",
       "       [-7.55306021e-01],\n",
       "       [-6.74344057e-01],\n",
       "       [-3.33147209e-01],\n",
       "       [-9.33133192e-01],\n",
       "       [ 5.71891887e-01],\n",
       "       [ 3.57326755e+00],\n",
       "       [-1.32188049e-01],\n",
       "       [-1.91913425e+00],\n",
       "       [-7.92895504e-01],\n",
       "       [-9.04218204e-01],\n",
       "       [ 4.53340440e-01],\n",
       "       [ 2.33586538e-01],\n",
       "       [ 5.28678684e-02],\n",
       "       [-5.16757377e-01],\n",
       "       [-2.27607506e-01],\n",
       "       [-3.46158954e-01],\n",
       "       [ 1.83113957e+00],\n",
       "       [-1.24830655e+00],\n",
       "       [ 4.70689432e-01],\n",
       "       [-9.37470440e-01],\n",
       "       [ 2.57425474e+00],\n",
       "       [-3.51635648e-03],\n",
       "       [-1.58211537e-01],\n",
       "       [-4.73384897e-01],\n",
       "       [ 1.26601085e-01],\n",
       "       [ 1.29187507e+00],\n",
       "       [-3.05838474e+00],\n",
       "       [-2.01584018e-01],\n",
       "       [ 1.15035091e-01],\n",
       "       [ 8.17828554e-02],\n",
       "       [ 5.27073657e-01],\n",
       "       [-1.32188049e-01],\n",
       "       [-9.89358139e-02],\n",
       "       [ 8.24898024e-01],\n",
       "       [ 2.23884089e+00],\n",
       "       [-5.29769122e-01],\n",
       "       [-2.20378760e-01],\n",
       "       [ 2.19129044e-01],\n",
       "       [ 1.05043492e+00],\n",
       "       [ 1.51178824e-01],\n",
       "       [ 2.55272778e-01],\n",
       "       [ 9.47945996e-02],\n",
       "       [-1.67769411e+00],\n",
       "       [ 2.92862261e-01],\n",
       "       [-5.80370349e-01],\n",
       "       [-1.90018023e-01],\n",
       "       [-3.80856938e-01],\n",
       "       [ 2.88219936e+00],\n",
       "       [ 2.27803540e-01],\n",
       "       [ 5.44422649e-01],\n",
       "       [-7.32174031e-01],\n",
       "       [ 1.36721331e-01],\n",
       "       [-1.21650007e+00],\n",
       "       [ 1.05043492e+00],\n",
       "       [ 3.01231680e+00],\n",
       "       [ 4.14305207e-01],\n",
       "       [-3.53387700e-01],\n",
       "       [-5.77478850e-01],\n",
       "       [ 8.46743542e-02],\n",
       "       [-2.31526957e+00],\n",
       "       [-1.86564153e+00],\n",
       "       [ 6.08035621e-01],\n",
       "       [-1.82789276e-01],\n",
       "       [-7.10487791e-01],\n",
       "       [ 1.10248190e+00],\n",
       "       [ 2.88525013e-01],\n",
       "       [ 3.70932726e-01],\n",
       "       [ 1.29332081e+00],\n",
       "       [ 2.56718527e-01],\n",
       "       [-3.36038708e-01],\n",
       "       [ 1.34681354e+00],\n",
       "       [ 5.42976900e-01],\n",
       "       [ 3.42017739e-01],\n",
       "       [ 1.32384083e-01],\n",
       "       [ 2.36478036e-01],\n",
       "       [ 2.56718527e-01],\n",
       "       [-6.64223812e-01],\n",
       "       [ 1.17926589e-01],\n",
       "       [ 1.04465193e+00],\n",
       "       [ 3.54290681e+00],\n",
       "       [-3.90977184e-01],\n",
       "       [-3.49050452e-01],\n",
       "       [-7.43580749e-02],\n",
       "       [-3.53387700e-01],\n",
       "       [ 4.90929923e-01],\n",
       "       [ 2.72621770e-01],\n",
       "       [ 2.90966859e+00],\n",
       "       [-8.44783203e-02],\n",
       "       [-6.02056589e-01],\n",
       "       [ 3.34788993e-01],\n",
       "       [-1.22067804e-01],\n",
       "       [-1.56765788e-01],\n",
       "       [-1.41167623e+00],\n",
       "       [-3.09855942e-02],\n",
       "       [-9.95300414e-01],\n",
       "       [-4.96210584e-03],\n",
       "       [-1.45199793e-01],\n",
       "       [ 7.62730802e-01],\n",
       "       [ 1.75885211e+00],\n",
       "       [ 2.35032287e-01],\n",
       "       [-8.73698191e-02],\n",
       "       [ 1.68656464e+00],\n",
       "       [ 1.56078445e+00],\n",
       "       [ 1.33669330e+00],\n",
       "       [-3.88085685e-01],\n",
       "       [-1.15288709e+00],\n",
       "       [ 1.11404789e+00],\n",
       "       [ 2.95448682e+00],\n",
       "       [-5.57238359e-01],\n",
       "       [ 6.86106086e-01],\n",
       "       [ 7.46827559e-01],\n",
       "       [-3.51635648e-03],\n",
       "       [ 4.50448941e-01],\n",
       "       [-3.38930207e-01],\n",
       "       [-1.82789276e-01],\n",
       "       [-1.92909522e-01],\n",
       "       [-9.85180168e-01],\n",
       "       [ 6.84660336e-01],\n",
       "       [-6.75789806e-01],\n",
       "       [ 1.85876809e-01],\n",
       "       [-6.13463307e-02],\n",
       "       [-1.76010182e+00],\n",
       "       [ 5.28519406e-01],\n",
       "       [ 1.42054676e+00],\n",
       "       [-1.22951181e+00],\n",
       "       [-4.01097429e-01],\n",
       "       [ 2.18534817e+00],\n",
       "       [ 1.03308593e+00],\n",
       "       [-4.58927403e-01],\n",
       "       [-1.48091292e-01],\n",
       "       [-6.03502339e-01],\n",
       "       [ 3.29005995e-01],\n",
       "       [ 8.78390750e-01],\n",
       "       [-2.10258514e-01],\n",
       "       [ 2.49489781e-01],\n",
       "       [-3.62062196e-01],\n",
       "       [ 5.37193902e-01],\n",
       "       [-4.22783669e-01],\n",
       "       [ 1.37283703e+00],\n",
       "       [-6.36754574e-01]])"
      ]
     },
     "execution_count": 28,
     "metadata": {},
     "output_type": "execute_result"
    }
   ],
   "source": [
    "from sklearn.preprocessing import StandardScaler\n",
    "scaler = StandardScaler()\n",
    "scaler.fit(X_train)\n",
    "X_train_scaled =scaler.transform(X_train)\n",
    "# 기준과 변환을 한 번에\n",
    "# scaler.fit_transform(X_train) 이렇게 하면 한 번에 가능!\n",
    "X_test_scaled = scaler.transform(X_test) # X_test는 fit을 하면 안됨. 왜냐하면 train을 기준으로 잡고 해야 하므로!\n",
    "X_test_scaled"
   ]
  },
  {
   "attachments": {},
   "cell_type": "markdown",
   "metadata": {},
   "source": [
    "# 5.Pipeline with StandardScaler, LinearRegression, SGDRegressior"
   ]
  },
  {
   "cell_type": "code",
   "execution_count": 29,
   "metadata": {},
   "outputs": [
    {
     "name": "stdout",
     "output_type": "stream",
     "text": [
      "[5.84750366] [22.31897879]\n",
      "y = 5.847504X + 22.319\n",
      "MSE: 36.523\n",
      "RMSE:  6.043\n",
      "R2:  0.602\n"
     ]
    }
   ],
   "source": [
    "from sklearn.preprocessing import StandardScaler\n",
    "from sklearn.pipeline import make_pipeline\n",
    "\n",
    "reg = make_pipeline(StandardScaler(),\n",
    "                    SGDRegressor(max_iter=1000000, eta0=0.01,\\\n",
    "                                 tol=0.0001, random_state=42, loss='squared_error'))\n",
    "reg.fit(X_train, y_train)\n",
    "\n",
    "# 계수 및 절편 확인: _속성은 학습을 통해 결정되는 속성\n",
    "print(reg[1].coef_, reg[1].intercept_)\n",
    "\n",
    "#회귀식 - pipeline()을 사용했기 때문에 SGDRegressor의 parameter가 reg객체의 1번 인덱스에 들어감\n",
    "print(\"y = {:2f}X + {:.3f}\".format(reg[1].coef_[0], reg[1].intercept_[0]))\n",
    "\n",
    "# 예측 수행\n",
    "y_pred = reg.predict(X_test)\n",
    "from sklearn.metrics import mean_squared_error, r2_score\n",
    "# MSE, RMSE, r2_score\n",
    "mse = mean_squared_error(y_test, y_pred)\n",
    "rmse = np.sqrt(mse)\n",
    "r2 = r2_score(y_test, y_pred)\n",
    "\n",
    "print(\"MSE:\", np.round(mse, 3))\n",
    "print(\"RMSE: \", np.round(rmse, 3))\n",
    "print(\"R2: \", np.round(r2, 3))"
   ]
  },
  {
   "cell_type": "code",
   "execution_count": null,
   "metadata": {},
   "outputs": [],
   "source": []
  }
 ],
 "metadata": {
  "kernelspec": {
   "display_name": "Python 3",
   "language": "python",
   "name": "python3"
  },
  "language_info": {
   "codemirror_mode": {
    "name": "ipython",
    "version": 3
   },
   "file_extension": ".py",
   "mimetype": "text/x-python",
   "name": "python",
   "nbconvert_exporter": "python",
   "pygments_lexer": "ipython3",
   "version": "3.9.13"
  },
  "vscode": {
   "interpreter": {
    "hash": "3455c0890e7e2df1160e147aa3688f011a10f333e376754a307a9e8e4176ea7d"
   }
  }
 },
 "nbformat": 4,
 "nbformat_minor": 4
}
