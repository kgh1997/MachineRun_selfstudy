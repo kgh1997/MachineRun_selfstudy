{
 "cells": [
  {
   "cell_type": "markdown",
   "id": "96c73473",
   "metadata": {},
   "source": [
    "# 실습] 대출 상환 분류하기\n",
    "### 기본 모델 -> 튜닝 -> 점수 -> 특성 중요도 시각화"
   ]
  },
  {
   "cell_type": "code",
   "execution_count": null,
   "id": "7bf60a34",
   "metadata": {},
   "outputs": [],
   "source": [
    "# 필요한 라이브러리 import\n",
    "\n",
    "import pandas as pd\n",
    "import numpy as np\n",
    "import matplotlib.pyplot as plt\n",
    "import seaborn as sns\n",
    "\n",
    "from sklearn.preprocessing import LabelEncoder\n",
    "from sklearn.preprocessing import StandardScaler\n",
    "\n",
    "from sklearn.tree import DecisionTreeClassifier\n",
    "from sklearn.ensemble import RandomForestClassifier\n",
    "from xgboost import XGBClassifier\n",
    "\n",
    "from sklearn.model_selection import train_test_split\n",
    "\n",
    "from sklearn.metrics import confusion_matrix, accuracy_score\n",
    "from sklearn.metrics import precision_score, recall_score\n",
    "from sklearn.metrics import f1_score, roc_auc_score\n"
   ]
  },
  {
   "cell_type": "markdown",
   "id": "21b13587",
   "metadata": {},
   "source": [
    "## 0. 데이터 수집 및 탐색"
   ]
  },
  {
   "cell_type": "code",
   "execution_count": null,
   "id": "9dd58668",
   "metadata": {},
   "outputs": [],
   "source": [
    "loan200 = pd.read_csv('../loan200.csv')\n",
    "loan3000 = pd.read_csv('../loan3000.csv')\n",
    "loan_data = pd.read_csv('../loan_data.csv')"
   ]
  },
  {
   "cell_type": "code",
   "execution_count": null,
   "id": "582774bc",
   "metadata": {},
   "outputs": [],
   "source": []
  },
  {
   "cell_type": "markdown",
   "id": "e63d7e60",
   "metadata": {},
   "source": [
    "\n",
    "## 1. 의사결정트리(DT)모델 구축 및 평가"
   ]
  },
  {
   "cell_type": "code",
   "execution_count": null,
   "id": "3450d6d3",
   "metadata": {},
   "outputs": [],
   "source": []
  },
  {
   "cell_type": "code",
   "execution_count": null,
   "id": "7ac052ce",
   "metadata": {},
   "outputs": [],
   "source": []
  },
  {
   "cell_type": "code",
   "execution_count": null,
   "id": "8a1ccc8b",
   "metadata": {},
   "outputs": [],
   "source": []
  },
  {
   "cell_type": "markdown",
   "id": "b33e5ca6",
   "metadata": {},
   "source": [
    "## 2. 랜덤포레스트(RF) 모델 구축 및 평가"
   ]
  },
  {
   "cell_type": "code",
   "execution_count": null,
   "id": "6706eeaa",
   "metadata": {},
   "outputs": [],
   "source": []
  },
  {
   "cell_type": "code",
   "execution_count": null,
   "id": "cf8e9beb",
   "metadata": {},
   "outputs": [],
   "source": []
  },
  {
   "cell_type": "code",
   "execution_count": null,
   "id": "bb8a9845",
   "metadata": {},
   "outputs": [],
   "source": []
  },
  {
   "cell_type": "markdown",
   "id": "bc6655da",
   "metadata": {},
   "source": [
    "## 3. XGB 모델 구축 및 평가"
   ]
  },
  {
   "cell_type": "code",
   "execution_count": null,
   "id": "ecf6eabd",
   "metadata": {},
   "outputs": [],
   "source": []
  },
  {
   "cell_type": "code",
   "execution_count": null,
   "id": "6cc11f0d",
   "metadata": {},
   "outputs": [],
   "source": []
  }
 ],
 "metadata": {
  "kernelspec": {
   "display_name": "Python 3",
   "language": "python",
   "name": "python3"
  },
  "language_info": {
   "codemirror_mode": {
    "name": "ipython",
    "version": 3
   },
   "file_extension": ".py",
   "mimetype": "text/x-python",
   "name": "python",
   "nbconvert_exporter": "python",
   "pygments_lexer": "ipython3",
   "version": "3.8.8"
  }
 },
 "nbformat": 4,
 "nbformat_minor": 5
}
